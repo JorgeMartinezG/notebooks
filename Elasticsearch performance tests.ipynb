{
 "cells": [
  {
   "cell_type": "markdown",
   "metadata": {},
   "source": [
    "## Elasticsearch performance tests"
   ]
  },
  {
   "cell_type": "markdown",
   "metadata": {},
   "source": [
    "This is a simple notebook which evaluates time performance of elasticsearch requests using different document sizes and different requests. The following tests were run creating indexes and indexing data with sizes of 10K, 20K, 30K, 50K and 100K documents:\n",
    "- Basic query \"match_all\" without filters.\n",
    "- Geo shape filtered query.\n",
    "- Geo shape filtered query with heatmap facetting.\n",
    "- \"match_all\" query with heatmap facetting.\n",
    "\n",
    "Tested with Elasticsearch 5.1.1 with heatmap plugin installed:\n",
    "https://github.com/boundlessgeo/elasticsearch-heatmap/"
   ]
  },
  {
   "cell_type": "markdown",
   "metadata": {},
   "source": [
    "## Functions definitions."
   ]
  },
  {
   "cell_type": "code",
   "execution_count": 31,
   "metadata": {
    "collapsed": false
   },
   "outputs": [],
   "source": [
    "# Create elasticsearch connection.\n",
    "import rawes\n",
    "es = rawes.Elastic('http://localhost:9200')\n",
    "global_query = {\n",
    "    \"query\": {\n",
    "        \"match_all\": {}\n",
    "    }\n",
    "}\n",
    "geoshape_filter = {\n",
    "  \"bool\": {\n",
    "    \"filter\": {\n",
    "      \"geo_shape\": {\n",
    "        \"layer_geoshape\": {\n",
    "          \"shape\": {\n",
    "            \"type\": \"envelope\", \n",
    "            \"coordinates\": [\n",
    "              [\"-180.0\", \"90.0\"], \n",
    "              [\"180.0\", \"-90.0\"]\n",
    "            ]\n",
    "          }, \n",
    "          \"relation\": \"intersects\"\n",
    "        }\n",
    "      }\n",
    "    }\n",
    "  }\n",
    "}\n",
    "heatmap_agg = {\n",
    "  \"viewport\": {\n",
    "    \"heatmap\": {\n",
    "      \"dist_err_pct\": 0.07, \n",
    "      \"field\": \"layer_geoshape\", \n",
    "      \"geom\": {\n",
    "        \"geo_shape\": {\n",
    "          \"layer_geoshape\": {\n",
    "            \"shape\": {\n",
    "              \"type\": \"envelope\", \n",
    "              \"coordinates\": [\n",
    "                [\"-180.0\", \"90.0\"], \n",
    "                [\"180.0\", \"-90.0\"]\n",
    "              ]\n",
    "            }, \n",
    "            \"relation\": \"within\"\n",
    "          }\n",
    "        }\n",
    "      }\n",
    "    }\n",
    "  }\n",
    "}\n",
    "\n",
    "def p_hr():\n",
    "    print \"===============================================================\"\n",
    "\n",
    "def l_hr():\n",
    "    print \"---------------------------------------------------------------\"    "
   ]
  },
  {
   "cell_type": "code",
   "execution_count": 32,
   "metadata": {
    "collapsed": true
   },
   "outputs": [],
   "source": [
    "def basic_query(index_name):\n",
    "    query = global_query.copy()\n",
    "    url = '/%s/_search' % (index_name)\n",
    "    response = es.post(url, data=query)\n",
    "    \n",
    "    return response"
   ]
  },
  {
   "cell_type": "code",
   "execution_count": 33,
   "metadata": {
    "collapsed": false
   },
   "outputs": [],
   "source": [
    "def filtered_geoshape_query(index_name):\n",
    "    query = global_query.copy()\n",
    "    query['query'] = geoshape_filter\n",
    "    url = '/%s/_search' % (index_name)\n",
    "    response = es.post(url, data=query)\n",
    "    \n",
    "    return response"
   ]
  },
  {
   "cell_type": "code",
   "execution_count": 34,
   "metadata": {
    "collapsed": false
   },
   "outputs": [],
   "source": [
    "def heatmap_aggregation(index_name):    \n",
    "    query = global_query.copy()\n",
    "    query['query'] = geoshape_filter\n",
    "    query['aggs'] = heatmap_agg\n",
    "    url = '/%s/_search' % (index_name)\n",
    "    response = es.post(url, data=query)\n",
    "    \n",
    "    return response"
   ]
  },
  {
   "cell_type": "code",
   "execution_count": 35,
   "metadata": {
    "collapsed": true
   },
   "outputs": [],
   "source": [
    "def heatmap_aggregation_nofilter(index_name):    \n",
    "    query = global_query.copy()\n",
    "    query['aggs'] = heatmap_agg\n",
    "    url = '/%s/_search' % (index_name)\n",
    "    response = es.post(url, data=query)\n",
    "    \n",
    "    return response"
   ]
  },
  {
   "cell_type": "code",
   "execution_count": 36,
   "metadata": {
    "collapsed": true
   },
   "outputs": [],
   "source": [
    "def test_performance(index_name):\n",
    "    time_list = []\n",
    "    p_hr()\n",
    "    print \"Test performance for %s\" % (index_name)\n",
    "    p_hr()\n",
    "    \n",
    "    print \"\\nBasic Query\"\n",
    "    l_hr()\n",
    "    response = basic_query(index_name)\n",
    "    print 'Total number of records: %d' % response['hits']['total']\n",
    "    print 'Response time %d msecs\\n' % response['took']\n",
    "    time_list.append(response['took'])    \n",
    "\n",
    "    print \"Geoshape filtering query\"\n",
    "    l_hr()\n",
    "    response = filtered_geoshape_query(index_name)\n",
    "    print 'Total records %d' % response['hits']['total']\n",
    "    print 'Response time %d msecs\\n' % response['took']\n",
    "    time_list.append(response['took']) \n",
    "\n",
    "    print \"Heatmap aggregation query\"\n",
    "    l_hr()\n",
    "    response = heatmap_aggregation(index_name)\n",
    "    print 'Total records %d' % response['hits']['total']\n",
    "    print 'Response time %d msecs\\n' % response['took']\n",
    "    time_list.append(response['took'])\n",
    "\n",
    "    print \"Heatmap aggregation without filter query\"\n",
    "    l_hr()\n",
    "    response = heatmap_aggregation_nofilter(index_name)\n",
    "    print 'Total records %d' % response['hits']['total']\n",
    "    print 'Response time %d msecs' % response['took']\n",
    "    time_list.append(response['took'])\n",
    "    \n",
    "    return time_list"
   ]
  },
  {
   "cell_type": "markdown",
   "metadata": {},
   "source": [
    "### 1. Experiments with 10k documents"
   ]
  },
  {
   "cell_type": "markdown",
   "metadata": {},
   "source": [
    "#### a. Create and index documents with mapping...using bash"
   ]
  },
  {
   "cell_type": "code",
   "execution_count": 37,
   "metadata": {
    "collapsed": false,
    "scrolled": true
   },
   "outputs": [
    {
     "name": "stdout",
     "output_type": "stream",
     "text": [
      "Creating index...\n",
      "{\"acknowledged\":true,\"shards_acknowledged\":true}\n",
      "Indexing documents...\n",
      "\n",
      "real\t0m14.072s\n",
      "user\t0m0.015s\n",
      "sys\t0m0.054s\n"
     ]
    },
    {
     "data": {
      "text/plain": [
       "{u'_shards': {u'failed': 0, u'successful': 5, u'total': 10}}"
      ]
     },
     "execution_count": 37,
     "metadata": {},
     "output_type": "execute_result"
    }
   ],
   "source": [
    "print 'Creating index...'\n",
    "!curl -XPUT http://localhost:9200/index_10k -d @mapping.json\n",
    "print '\\nIndexing documents...'\n",
    "!time curl --silent -XPOST http://localhost:9200/index_10k/layer/_bulk --data-binary @data_es/scroll_0001.json > /dev/null\n",
    "times_10k = []\n",
    "es.post('/_refresh')"
   ]
  },
  {
   "cell_type": "markdown",
   "metadata": {},
   "source": [
    "#### b. Test performance"
   ]
  },
  {
   "cell_type": "code",
   "execution_count": 38,
   "metadata": {
    "collapsed": false
   },
   "outputs": [
    {
     "name": "stdout",
     "output_type": "stream",
     "text": [
      "===============================================================\n",
      "Test performance for index_10k\n",
      "===============================================================\n",
      "\n",
      "Basic Query\n",
      "---------------------------------------------------------------\n",
      "Total number of records: 10000\n",
      "Response time 133 msecs\n",
      "\n",
      "Geoshape filtering query\n",
      "---------------------------------------------------------------\n",
      "Total records 10000\n",
      "Response time 66 msecs\n",
      "\n",
      "Heatmap aggregation query\n",
      "---------------------------------------------------------------\n",
      "Total records 10000\n",
      "Response time 186 msecs\n",
      "\n",
      "Heatmap aggregation without filter query\n",
      "---------------------------------------------------------------\n",
      "Total records 10000\n",
      "Response time 65 msecs\n"
     ]
    }
   ],
   "source": [
    "time_10k = test_performance('index_10k')"
   ]
  },
  {
   "cell_type": "markdown",
   "metadata": {},
   "source": [
    "### 2. Experiments with 20k documents"
   ]
  },
  {
   "cell_type": "markdown",
   "metadata": {},
   "source": [
    "#### a. Create and index documents with mapping...using bash"
   ]
  },
  {
   "cell_type": "code",
   "execution_count": 39,
   "metadata": {
    "collapsed": false
   },
   "outputs": [
    {
     "name": "stdout",
     "output_type": "stream",
     "text": [
      "Creating index...\n",
      "{\"acknowledged\":true,\"shards_acknowledged\":true}\n",
      "Indexing documents...\n",
      "\n",
      "real\t0m20.355s\n",
      "user\t0m0.034s\n",
      "sys\t0m0.116s\n"
     ]
    },
    {
     "data": {
      "text/plain": [
       "{u'_shards': {u'failed': 0, u'successful': 10, u'total': 20}}"
      ]
     },
     "execution_count": 39,
     "metadata": {},
     "output_type": "execute_result"
    }
   ],
   "source": [
    "print 'Creating index...'\n",
    "!curl -XPUT http://localhost:9200/index_20k -d @mapping.json\n",
    "print '\\nIndexing documents...'\n",
    "!time ls data_es | head -n 2 | xargs -I{} sh -c \"curl --silent -XPOST http://localhost:9200/index_20k/layer/_bulk \\\n",
    "                                    --data-binary @data_es/{} > /dev/null\"\n",
    "times_20k = []\n",
    "es.post('/_refresh')"
   ]
  },
  {
   "cell_type": "markdown",
   "metadata": {},
   "source": [
    "#### b. Test performance"
   ]
  },
  {
   "cell_type": "code",
   "execution_count": 40,
   "metadata": {
    "collapsed": false
   },
   "outputs": [
    {
     "name": "stdout",
     "output_type": "stream",
     "text": [
      "===============================================================\n",
      "Test performance for index_20k\n",
      "===============================================================\n",
      "\n",
      "Basic Query\n",
      "---------------------------------------------------------------\n",
      "Total number of records: 20000\n",
      "Response time 24 msecs\n",
      "\n",
      "Geoshape filtering query\n",
      "---------------------------------------------------------------\n",
      "Total records 20000\n",
      "Response time 48 msecs\n",
      "\n",
      "Heatmap aggregation query\n",
      "---------------------------------------------------------------\n",
      "Total records 20000\n",
      "Response time 94 msecs\n",
      "\n",
      "Heatmap aggregation without filter query\n",
      "---------------------------------------------------------------\n",
      "Total records 20000\n",
      "Response time 90 msecs\n"
     ]
    }
   ],
   "source": [
    "time_20k = test_performance('index_20k')"
   ]
  },
  {
   "cell_type": "markdown",
   "metadata": {},
   "source": [
    "### 3. Experiments with 30k documents"
   ]
  },
  {
   "cell_type": "markdown",
   "metadata": {},
   "source": [
    "#### a. Create and index documents with mapping...using bash"
   ]
  },
  {
   "cell_type": "code",
   "execution_count": 41,
   "metadata": {
    "collapsed": false
   },
   "outputs": [
    {
     "name": "stdout",
     "output_type": "stream",
     "text": [
      "Creating index...\n",
      "{\"acknowledged\":true,\"shards_acknowledged\":true}\n",
      "Indexing documents...\n",
      "\n",
      "real\t0m30.178s\n",
      "user\t0m0.048s\n",
      "sys\t0m0.171s\n"
     ]
    },
    {
     "data": {
      "text/plain": [
       "{u'_shards': {u'failed': 0, u'successful': 15, u'total': 30}}"
      ]
     },
     "execution_count": 41,
     "metadata": {},
     "output_type": "execute_result"
    }
   ],
   "source": [
    "print 'Creating index...'\n",
    "!curl -XPUT http://localhost:9200/index_30k -d @mapping.json\n",
    "print '\\nIndexing documents...'\n",
    "!time ls data_es | head -n 3 | xargs -I{} sh -c \"curl --silent -XPOST http://localhost:9200/index_30k/layer/_bulk \\\n",
    "                                    --data-binary @data_es/{} > /dev/null\"\n",
    "times_30k = []\n",
    "es.post('/_refresh')"
   ]
  },
  {
   "cell_type": "markdown",
   "metadata": {},
   "source": [
    "#### b. Test performance"
   ]
  },
  {
   "cell_type": "code",
   "execution_count": 42,
   "metadata": {
    "collapsed": false
   },
   "outputs": [
    {
     "name": "stdout",
     "output_type": "stream",
     "text": [
      "===============================================================\n",
      "Test performance for index_30k\n",
      "===============================================================\n",
      "\n",
      "Basic Query\n",
      "---------------------------------------------------------------\n",
      "Total number of records: 30000\n",
      "Response time 21 msecs\n",
      "\n",
      "Geoshape filtering query\n",
      "---------------------------------------------------------------\n",
      "Total records 30000\n",
      "Response time 30 msecs\n",
      "\n",
      "Heatmap aggregation query\n",
      "---------------------------------------------------------------\n",
      "Total records 30000\n",
      "Response time 93 msecs\n",
      "\n",
      "Heatmap aggregation without filter query\n",
      "---------------------------------------------------------------\n",
      "Total records 30000\n",
      "Response time 73 msecs\n"
     ]
    }
   ],
   "source": [
    "time_30k = test_performance('index_30k')"
   ]
  },
  {
   "cell_type": "markdown",
   "metadata": {},
   "source": [
    "### 4. Experiments with 50k documents"
   ]
  },
  {
   "cell_type": "markdown",
   "metadata": {},
   "source": [
    "#### a. Create and index documents with mapping...using bash"
   ]
  },
  {
   "cell_type": "code",
   "execution_count": 43,
   "metadata": {
    "collapsed": false
   },
   "outputs": [
    {
     "name": "stdout",
     "output_type": "stream",
     "text": [
      "Creating index...\n",
      "{\"acknowledged\":true,\"shards_acknowledged\":true}\n",
      "Indexing documents...\n",
      "\n",
      "real\t0m43.208s\n",
      "user\t0m0.080s\n",
      "sys\t0m0.291s\n"
     ]
    },
    {
     "data": {
      "text/plain": [
       "{u'_shards': {u'failed': 0, u'successful': 20, u'total': 40}}"
      ]
     },
     "execution_count": 43,
     "metadata": {},
     "output_type": "execute_result"
    }
   ],
   "source": [
    "print 'Creating index...'\n",
    "!curl -XPUT http://localhost:9200/index_50k -d @mapping.json\n",
    "print '\\nIndexing documents...'\n",
    "!time ls data_es | head -n 5 | xargs -I{} sh -c \"curl --silent -XPOST http://localhost:9200/index_50k/layer/_bulk \\\n",
    "                                    --data-binary @data_es/{} > /dev/null\"\n",
    "times_50k = []\n",
    "es.post('/_refresh')"
   ]
  },
  {
   "cell_type": "markdown",
   "metadata": {},
   "source": [
    "#### b. Test performance"
   ]
  },
  {
   "cell_type": "code",
   "execution_count": 44,
   "metadata": {
    "collapsed": false
   },
   "outputs": [
    {
     "name": "stdout",
     "output_type": "stream",
     "text": [
      "===============================================================\n",
      "Test performance for index_50k\n",
      "===============================================================\n",
      "\n",
      "Basic Query\n",
      "---------------------------------------------------------------\n",
      "Total number of records: 50000\n",
      "Response time 20 msecs\n",
      "\n",
      "Geoshape filtering query\n",
      "---------------------------------------------------------------\n",
      "Total records 50000\n",
      "Response time 109 msecs\n",
      "\n",
      "Heatmap aggregation query\n",
      "---------------------------------------------------------------\n",
      "Total records 50000\n",
      "Response time 579 msecs\n",
      "\n",
      "Heatmap aggregation without filter query\n",
      "---------------------------------------------------------------\n",
      "Total records 50000\n",
      "Response time 112 msecs\n"
     ]
    }
   ],
   "source": [
    "time_50k = test_performance('index_50k')"
   ]
  },
  {
   "cell_type": "markdown",
   "metadata": {},
   "source": [
    "### 5. Experiments with 100k documents"
   ]
  },
  {
   "cell_type": "markdown",
   "metadata": {},
   "source": [
    "#### a. Create and index documents with mapping...using bash"
   ]
  },
  {
   "cell_type": "code",
   "execution_count": 45,
   "metadata": {
    "collapsed": false
   },
   "outputs": [
    {
     "name": "stdout",
     "output_type": "stream",
     "text": [
      "Creating index...\n",
      "{\"acknowledged\":true,\"shards_acknowledged\":true}\n",
      "Indexing documents...\n",
      "\n",
      "real\t1m28.551s\n",
      "user\t0m0.150s\n",
      "sys\t0m0.551s\n"
     ]
    },
    {
     "data": {
      "text/plain": [
       "{u'_shards': {u'failed': 0, u'successful': 25, u'total': 50}}"
      ]
     },
     "execution_count": 45,
     "metadata": {},
     "output_type": "execute_result"
    }
   ],
   "source": [
    "print 'Creating index...'\n",
    "!curl -XPUT http://localhost:9200/index_100k -d @mapping.json\n",
    "print '\\nIndexing documents...'\n",
    "!time ls data_es | head -n 10 | xargs -I{} sh -c \"curl --silent -XPOST http://localhost:9200/index_100k/layer/_bulk \\\n",
    "                                    --data-binary @data_es/{} > /dev/null\"\n",
    "times_100k = []\n",
    "es.post('/_refresh')"
   ]
  },
  {
   "cell_type": "markdown",
   "metadata": {},
   "source": [
    "#### b. Test performance"
   ]
  },
  {
   "cell_type": "code",
   "execution_count": 46,
   "metadata": {
    "collapsed": false
   },
   "outputs": [
    {
     "name": "stdout",
     "output_type": "stream",
     "text": [
      "===============================================================\n",
      "Test performance for index_100k\n",
      "===============================================================\n",
      "\n",
      "Basic Query\n",
      "---------------------------------------------------------------\n",
      "Total number of records: 100000\n",
      "Response time 95 msecs\n",
      "\n",
      "Geoshape filtering query\n",
      "---------------------------------------------------------------\n",
      "Total records 100000\n",
      "Response time 260 msecs\n",
      "\n",
      "Heatmap aggregation query\n",
      "---------------------------------------------------------------\n",
      "Total records 100000\n",
      "Response time 2935 msecs\n",
      "\n",
      "Heatmap aggregation without filter query\n",
      "---------------------------------------------------------------\n",
      "Total records 100000\n",
      "Response time 101 msecs\n"
     ]
    }
   ],
   "source": [
    "time_100k = test_performance('index_100k')"
   ]
  },
  {
   "cell_type": "code",
   "execution_count": 47,
   "metadata": {
    "collapsed": false
   },
   "outputs": [
    {
     "name": "stdout",
     "output_type": "stream",
     "text": [
      "Populating the interactive namespace from numpy and matplotlib\n"
     ]
    },
    {
     "data": {
      "image/png": "[encoded data removed]",
      "text/plain": [
       "<matplotlib.figure.Figure at 0x10c940b10>"
      ]
     },
     "metadata": {},
     "output_type": "display_data"
    }
   ],
   "source": [
    "%pylab inline\n",
    "pylab.rcParams['figure.figsize'] = (10, 4)\n",
    "\n",
    "import numpy as np\n",
    "from matplotlib import pyplot as plt\n",
    "\n",
    "N = 4\n",
    "ind = np.arange(N)\n",
    "width = 0.15\n",
    "fig, ax = plt.subplots()\n",
    "rects_10k = ax.bar(ind, time_10k, width)\n",
    "rects_20k = ax.bar(ind + width, time_20k, width)\n",
    "rects_30k = ax.bar(ind + 2*width, time_30k, width)\n",
    "rects_50k = ax.bar(ind + 3*width, time_50k, width)\n",
    "rects_100k = ax.bar(ind + 4*width, time_100k, width)\n",
    "\n",
    "ax.set_ylabel('time (msecs)')\n",
    "ax.set_xticks(ind + 2.5*width)\n",
    "ax.set_xticklabels(('Basic', 'GeoShapefilter', 'Heatmap', 'HeatmapNofilter'))\n",
    "\n",
    "legend_tuple = (rects_10k[0], rects_20k[0], rects_30k[0], rects_50k[0], rects_100k[0])\n",
    "legend_names = ('10k', '20k', '30k', '50k', '100k')\n",
    "ax.legend(legend_tuple, legend_names)\n",
    "\n",
    "\n",
    "plt.show()"
   ]
  }
 ],
 "metadata": {
  "kernelspec": {
   "display_name": "Python 2",
   "language": "python",
   "name": "python2"
  },
  "language_info": {
   "codemirror_mode": {
    "name": "ipython",
    "version": 2
   },
   "file_extension": ".py",
   "mimetype": "text/x-python",
   "name": "python",
   "nbconvert_exporter": "python",
   "pygments_lexer": "ipython2",
   "version": "2.7.10"
  }
 },
 "nbformat": 4,
 "nbformat_minor": 2
}
