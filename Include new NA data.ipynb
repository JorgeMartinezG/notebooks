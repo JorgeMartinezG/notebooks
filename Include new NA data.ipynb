{
 "cells": [
  {
   "cell_type": "code",
   "execution_count": 1,
   "metadata": {
    "collapsed": true
   },
   "outputs": [],
   "source": [
    "import pandas as pd\n",
    "import editdistance\n",
    "import geopy.distance as dst"
   ]
  },
  {
   "cell_type": "markdown",
   "metadata": {},
   "source": [
    "## Read new and old pandas dataframe"
   ]
  },
  {
   "cell_type": "code",
   "execution_count": 2,
   "metadata": {},
   "outputs": [
    {
     "name": "stdout",
     "output_type": "stream",
     "text": [
      "(23471, 25)\n",
      "(4159, 23)\n"
     ]
    }
   ],
   "source": [
    "df = pd.read_csv('/code/gocode/src/geosure/mdf20180806.tsv', encoding='utf-16',sep='\\t')\n",
    "df_na = pd.read_csv('/Users/jorge/Desktop/mdf_na_new.csv', encoding='latin1')\n",
    "df_na.columns = [r.lower() for r in df_na.columns]\n",
    "# df_tx = pd.read_csv('/Users/jorge/Desktop/mdf_texas.csv')\n",
    "\n",
    "print(df.shape)\n",
    "print(df_na.shape)\n",
    "# df_na = pd.read_csv('/Users/jorge/Desktop/na_mdf.csv')"
   ]
  },
  {
   "cell_type": "markdown",
   "metadata": {},
   "source": [
    "## Organized needed columns"
   ]
  },
  {
   "cell_type": "code",
   "execution_count": 9,
   "metadata": {},
   "outputs": [
    {
     "name": "stdout",
     "output_type": "stream",
     "text": [
      "['geosure_id', 'record', 'continent', 'wiki_continent', 'country', 'wiki_country', 'country_code', 'province', 'wiki_city', 'city', 'city_original', 'city_type', 'district', 'language', 'language_secondary', 'population', 'latitude', 'longitude']\n",
      "----------\n",
      "['composite', 'physical', 'women', 'theft', 'political', 'health', 'lgbtq']\n"
     ]
    }
   ],
   "source": [
    "old_columns = df.columns[:-7].tolist()\n",
    "new_columns = df.columns[-7:].tolist()\n",
    "\n",
    "print(old_columns)\n",
    "print('----------')\n",
    "print(new_columns)\n"
   ]
  },
  {
   "cell_type": "code",
   "execution_count": 11,
   "metadata": {},
   "outputs": [
    {
     "name": "stdout",
     "output_type": "stream",
     "text": [
      "(1020, 25)\n"
     ]
    },
    {
     "data": {
      "text/html": [
       "<div>\n",
       "<style scoped>\n",
       "    .dataframe tbody tr th:only-of-type {\n",
       "        vertical-align: middle;\n",
       "    }\n",
       "\n",
       "    .dataframe tbody tr th {\n",
       "        vertical-align: top;\n",
       "    }\n",
       "\n",
       "    .dataframe thead th {\n",
       "        text-align: right;\n",
       "    }\n",
       "</style>\n",
       "<table border=\"1\" class=\"dataframe\">\n",
       "  <thead>\n",
       "    <tr style=\"text-align: right;\">\n",
       "      <th></th>\n",
       "      <th>geosure_id</th>\n",
       "      <th>record</th>\n",
       "      <th>continent</th>\n",
       "      <th>wiki_continent</th>\n",
       "      <th>country</th>\n",
       "      <th>wiki_country</th>\n",
       "      <th>country_code</th>\n",
       "      <th>province</th>\n",
       "      <th>wiki_city</th>\n",
       "      <th>city</th>\n",
       "      <th>...</th>\n",
       "      <th>population</th>\n",
       "      <th>latitude</th>\n",
       "      <th>longitude</th>\n",
       "      <th>composite</th>\n",
       "      <th>physical</th>\n",
       "      <th>women</th>\n",
       "      <th>theft</th>\n",
       "      <th>political</th>\n",
       "      <th>health</th>\n",
       "      <th>lgbtq</th>\n",
       "    </tr>\n",
       "  </thead>\n",
       "  <tbody>\n",
       "    <tr>\n",
       "      <th>0</th>\n",
       "      <td>G2000000</td>\n",
       "      <td>1</td>\n",
       "      <td>North America</td>\n",
       "      <td>Q49</td>\n",
       "      <td>Bermuda</td>\n",
       "      <td>Q23635</td>\n",
       "      <td>BM</td>\n",
       "      <td>Ontario</td>\n",
       "      <td>Q30985</td>\n",
       "      <td>Hamilton</td>\n",
       "      <td>...</td>\n",
       "      <td>1010.0</td>\n",
       "      <td>32.294816</td>\n",
       "      <td>-64.781375</td>\n",
       "      <td>22</td>\n",
       "      <td>18</td>\n",
       "      <td>17</td>\n",
       "      <td>23</td>\n",
       "      <td>25</td>\n",
       "      <td>30</td>\n",
       "      <td>50</td>\n",
       "    </tr>\n",
       "    <tr>\n",
       "      <th>1</th>\n",
       "      <td>G2000001</td>\n",
       "      <td>2</td>\n",
       "      <td>North America</td>\n",
       "      <td>Q49</td>\n",
       "      <td>Canada</td>\n",
       "      <td>Q16</td>\n",
       "      <td>CA</td>\n",
       "      <td>Alberta</td>\n",
       "      <td>Q2096</td>\n",
       "      <td>Edmonton</td>\n",
       "      <td>...</td>\n",
       "      <td>812201.0</td>\n",
       "      <td>53.544389</td>\n",
       "      <td>-113.490927</td>\n",
       "      <td>24</td>\n",
       "      <td>29</td>\n",
       "      <td>25</td>\n",
       "      <td>27</td>\n",
       "      <td>19</td>\n",
       "      <td>25</td>\n",
       "      <td>50</td>\n",
       "    </tr>\n",
       "    <tr>\n",
       "      <th>2</th>\n",
       "      <td>G2000002</td>\n",
       "      <td>3</td>\n",
       "      <td>North America</td>\n",
       "      <td>Q49</td>\n",
       "      <td>Canada</td>\n",
       "      <td>Q16</td>\n",
       "      <td>CA</td>\n",
       "      <td>Alberta</td>\n",
       "      <td>Q36312</td>\n",
       "      <td>Calgary</td>\n",
       "      <td>...</td>\n",
       "      <td>1096833.0</td>\n",
       "      <td>51.045325</td>\n",
       "      <td>-114.058101</td>\n",
       "      <td>24</td>\n",
       "      <td>27</td>\n",
       "      <td>23</td>\n",
       "      <td>26</td>\n",
       "      <td>19</td>\n",
       "      <td>25</td>\n",
       "      <td>50</td>\n",
       "    </tr>\n",
       "    <tr>\n",
       "      <th>3</th>\n",
       "      <td>G2000003</td>\n",
       "      <td>4</td>\n",
       "      <td>North America</td>\n",
       "      <td>Q49</td>\n",
       "      <td>Canada</td>\n",
       "      <td>Q16</td>\n",
       "      <td>CA</td>\n",
       "      <td>British Columbia</td>\n",
       "      <td>Q2132</td>\n",
       "      <td>Victoria</td>\n",
       "      <td>...</td>\n",
       "      <td>80017.0</td>\n",
       "      <td>48.428421</td>\n",
       "      <td>-123.365644</td>\n",
       "      <td>29</td>\n",
       "      <td>36</td>\n",
       "      <td>34</td>\n",
       "      <td>38</td>\n",
       "      <td>19</td>\n",
       "      <td>28</td>\n",
       "      <td>50</td>\n",
       "    </tr>\n",
       "    <tr>\n",
       "      <th>4</th>\n",
       "      <td>G2000004</td>\n",
       "      <td>5</td>\n",
       "      <td>North America</td>\n",
       "      <td>Q49</td>\n",
       "      <td>Canada</td>\n",
       "      <td>Q16</td>\n",
       "      <td>CA</td>\n",
       "      <td>British Columbia</td>\n",
       "      <td>Q24639</td>\n",
       "      <td>Vancouver</td>\n",
       "      <td>...</td>\n",
       "      <td>603502.0</td>\n",
       "      <td>49.261226</td>\n",
       "      <td>-123.113927</td>\n",
       "      <td>24</td>\n",
       "      <td>27</td>\n",
       "      <td>24</td>\n",
       "      <td>27</td>\n",
       "      <td>19</td>\n",
       "      <td>25</td>\n",
       "      <td>50</td>\n",
       "    </tr>\n",
       "  </tbody>\n",
       "</table>\n",
       "<p>5 rows × 25 columns</p>\n",
       "</div>"
      ],
      "text/plain": [
       "  geosure_id  record      continent wiki_continent  country wiki_country  \\\n",
       "0   G2000000       1  North America            Q49  Bermuda       Q23635   \n",
       "1   G2000001       2  North America            Q49   Canada          Q16   \n",
       "2   G2000002       3  North America            Q49   Canada          Q16   \n",
       "3   G2000003       4  North America            Q49   Canada          Q16   \n",
       "4   G2000004       5  North America            Q49   Canada          Q16   \n",
       "\n",
       "  country_code          province wiki_city       city  ...   population  \\\n",
       "0           BM           Ontario    Q30985   Hamilton  ...       1010.0   \n",
       "1           CA           Alberta     Q2096   Edmonton  ...     812201.0   \n",
       "2           CA           Alberta    Q36312    Calgary  ...    1096833.0   \n",
       "3           CA  British Columbia     Q2132   Victoria  ...      80017.0   \n",
       "4           CA  British Columbia    Q24639  Vancouver  ...     603502.0   \n",
       "\n",
       "    latitude   longitude composite physical  women  theft  political  health  \\\n",
       "0  32.294816  -64.781375        22       18     17     23         25      30   \n",
       "1  53.544389 -113.490927        24       29     25     27         19      25   \n",
       "2  51.045325 -114.058101        24       27     23     26         19      25   \n",
       "3  48.428421 -123.365644        29       36     34     38         19      28   \n",
       "4  49.261226 -123.113927        24       27     24     27         19      25   \n",
       "\n",
       "   lgbtq  \n",
       "0     50  \n",
       "1     50  \n",
       "2     50  \n",
       "3     50  \n",
       "4     50  \n",
       "\n",
       "[5 rows x 25 columns]"
      ]
     },
     "execution_count": 11,
     "metadata": {},
     "output_type": "execute_result"
    }
   ],
   "source": [
    "df_na_old = df.loc[(df['continent'] == 'North America')].copy().reset_index(drop=True)\n",
    "print(df_na_old.shape)\n",
    "df_na_old.head()"
   ]
  },
  {
   "cell_type": "markdown",
   "metadata": {},
   "source": [
    "### Use coordinates"
   ]
  },
  {
   "cell_type": "code",
   "execution_count": 12,
   "metadata": {},
   "outputs": [],
   "source": [
    "df_na_old['coords'] = list(zip(df_na_old['latitude'], df_na_old['longitude']))\n",
    "df_na['coords'] = list(zip(df_na['latitude'], df_na['longitude']))"
   ]
  },
  {
   "cell_type": "code",
   "execution_count": 13,
   "metadata": {},
   "outputs": [],
   "source": [
    "# For each new item, find in the bigger dataset of North America the id whose distance is the minimum.\n",
    "def get_id(df_old, row):\n",
    "    min_id = df_old['coords'].apply(lambda x: dst.vincenty(row['coords'], x).km).idxmin()\n",
    "    return {'old_df_id': min_id, 'new_df_id': row.name}\n",
    "\n",
    "min_dict = [get_id(df_na_old, row) for _, row in df_na.iterrows()]"
   ]
  },
  {
   "cell_type": "markdown",
   "metadata": {},
   "source": [
    "## Find by distance, name"
   ]
  },
  {
   "cell_type": "code",
   "execution_count": 16,
   "metadata": {},
   "outputs": [
    {
     "name": "stderr",
     "output_type": "stream",
     "text": [
      "Exception ignored in: 'editdistance.bycython.eval'\n",
      "TypeError: object of type 'float' has no len()\n"
     ]
    },
    {
     "name": "stdout",
     "output_type": "stream",
     "text": [
      "(4159, 18)\n"
     ]
    },
    {
     "data": {
      "text/html": [
       "<div>\n",
       "<style scoped>\n",
       "    .dataframe tbody tr th:only-of-type {\n",
       "        vertical-align: middle;\n",
       "    }\n",
       "\n",
       "    .dataframe tbody tr th {\n",
       "        vertical-align: top;\n",
       "    }\n",
       "\n",
       "    .dataframe thead th {\n",
       "        text-align: right;\n",
       "    }\n",
       "</style>\n",
       "<table border=\"1\" class=\"dataframe\">\n",
       "  <thead>\n",
       "    <tr style=\"text-align: right;\">\n",
       "      <th></th>\n",
       "      <th>city_dst</th>\n",
       "      <th>country_dst</th>\n",
       "      <th>district_dst</th>\n",
       "      <th>geosure_id</th>\n",
       "      <th>latlng_dist</th>\n",
       "      <th>new_city</th>\n",
       "      <th>new_district</th>\n",
       "      <th>new_ix</th>\n",
       "      <th>new_lat</th>\n",
       "      <th>new_lng</th>\n",
       "      <th>new_record</th>\n",
       "      <th>old_city</th>\n",
       "      <th>old_district</th>\n",
       "      <th>old_ix</th>\n",
       "      <th>old_lat</th>\n",
       "      <th>old_lng</th>\n",
       "      <th>old_record</th>\n",
       "      <th>province_dst</th>\n",
       "    </tr>\n",
       "  </thead>\n",
       "  <tbody>\n",
       "    <tr>\n",
       "      <th>0</th>\n",
       "      <td>0</td>\n",
       "      <td>5</td>\n",
       "      <td>0</td>\n",
       "      <td>G2000000</td>\n",
       "      <td>0.0</td>\n",
       "      <td>Hamilton</td>\n",
       "      <td>Overall</td>\n",
       "      <td>0</td>\n",
       "      <td>32.294816</td>\n",
       "      <td>-64.781375</td>\n",
       "      <td>1</td>\n",
       "      <td>Hamilton</td>\n",
       "      <td>Overall</td>\n",
       "      <td>0</td>\n",
       "      <td>32.294816</td>\n",
       "      <td>-64.781375</td>\n",
       "      <td>1</td>\n",
       "      <td>0</td>\n",
       "    </tr>\n",
       "    <tr>\n",
       "      <th>1</th>\n",
       "      <td>0</td>\n",
       "      <td>0</td>\n",
       "      <td>0</td>\n",
       "      <td>G2000002</td>\n",
       "      <td>0.0</td>\n",
       "      <td>Calgary</td>\n",
       "      <td>Overall</td>\n",
       "      <td>1</td>\n",
       "      <td>51.045325</td>\n",
       "      <td>-114.058101</td>\n",
       "      <td>2</td>\n",
       "      <td>Calgary</td>\n",
       "      <td>Overall</td>\n",
       "      <td>2</td>\n",
       "      <td>51.045325</td>\n",
       "      <td>-114.058101</td>\n",
       "      <td>3</td>\n",
       "      <td>0</td>\n",
       "    </tr>\n",
       "    <tr>\n",
       "      <th>2</th>\n",
       "      <td>0</td>\n",
       "      <td>0</td>\n",
       "      <td>0</td>\n",
       "      <td>G2000001</td>\n",
       "      <td>0.0</td>\n",
       "      <td>Edmonton</td>\n",
       "      <td>Overall</td>\n",
       "      <td>2</td>\n",
       "      <td>53.544389</td>\n",
       "      <td>-113.490927</td>\n",
       "      <td>3</td>\n",
       "      <td>Edmonton</td>\n",
       "      <td>Overall</td>\n",
       "      <td>1</td>\n",
       "      <td>53.544389</td>\n",
       "      <td>-113.490927</td>\n",
       "      <td>2</td>\n",
       "      <td>0</td>\n",
       "    </tr>\n",
       "    <tr>\n",
       "      <th>3</th>\n",
       "      <td>0</td>\n",
       "      <td>0</td>\n",
       "      <td>0</td>\n",
       "      <td>G2000008</td>\n",
       "      <td>0.0</td>\n",
       "      <td>Abbotsford</td>\n",
       "      <td>Overall</td>\n",
       "      <td>3</td>\n",
       "      <td>49.054587</td>\n",
       "      <td>-122.328026</td>\n",
       "      <td>4</td>\n",
       "      <td>Abbotsford</td>\n",
       "      <td>Overall</td>\n",
       "      <td>8</td>\n",
       "      <td>49.054587</td>\n",
       "      <td>-122.328026</td>\n",
       "      <td>9</td>\n",
       "      <td>0</td>\n",
       "    </tr>\n",
       "    <tr>\n",
       "      <th>4</th>\n",
       "      <td>0</td>\n",
       "      <td>0</td>\n",
       "      <td>0</td>\n",
       "      <td>G2000006</td>\n",
       "      <td>0.0</td>\n",
       "      <td>Burnaby</td>\n",
       "      <td>Overall</td>\n",
       "      <td>4</td>\n",
       "      <td>49.229491</td>\n",
       "      <td>-123.002575</td>\n",
       "      <td>5</td>\n",
       "      <td>Burnaby</td>\n",
       "      <td>Overall</td>\n",
       "      <td>6</td>\n",
       "      <td>49.229491</td>\n",
       "      <td>-123.002575</td>\n",
       "      <td>7</td>\n",
       "      <td>0</td>\n",
       "    </tr>\n",
       "  </tbody>\n",
       "</table>\n",
       "</div>"
      ],
      "text/plain": [
       "   city_dst  country_dst  district_dst geosure_id  latlng_dist    new_city  \\\n",
       "0         0            5             0   G2000000          0.0    Hamilton   \n",
       "1         0            0             0   G2000002          0.0     Calgary   \n",
       "2         0            0             0   G2000001          0.0    Edmonton   \n",
       "3         0            0             0   G2000008          0.0  Abbotsford   \n",
       "4         0            0             0   G2000006          0.0     Burnaby   \n",
       "\n",
       "  new_district  new_ix    new_lat     new_lng  new_record    old_city  \\\n",
       "0      Overall       0  32.294816  -64.781375           1    Hamilton   \n",
       "1      Overall       1  51.045325 -114.058101           2     Calgary   \n",
       "2      Overall       2  53.544389 -113.490927           3    Edmonton   \n",
       "3      Overall       3  49.054587 -122.328026           4  Abbotsford   \n",
       "4      Overall       4  49.229491 -123.002575           5     Burnaby   \n",
       "\n",
       "  old_district  old_ix    old_lat     old_lng  old_record  province_dst  \n",
       "0      Overall       0  32.294816  -64.781375           1             0  \n",
       "1      Overall       2  51.045325 -114.058101           3             0  \n",
       "2      Overall       1  53.544389 -113.490927           2             0  \n",
       "3      Overall       8  49.054587 -122.328026           9             0  \n",
       "4      Overall       6  49.229491 -123.002575           7             0  "
      ]
     },
     "execution_count": 16,
     "metadata": {},
     "output_type": "execute_result"
    }
   ],
   "source": [
    "def compare_df(ids, df_old, df_new):\n",
    "    row = df_old.iloc[ids['old_df_id']]\n",
    "    row_new = df_new.iloc[ids['new_df_id']]\n",
    "    res_dict = dict(geosure_id=row['geosure_id'],old_record=row['record'],new_record=row_new['record'], \n",
    "                    latlng_dist=dst.vincenty((row['latitude'], row['longitude']),\n",
    "                                             (row_new['latitude'], row_new['longitude'])).km)\n",
    "    res_dict.update({\n",
    "        \"old_city\": row['city'],\n",
    "        \"new_city\": row_new['city'],\n",
    "        \"old_lat\": row['latitude'],\n",
    "        \"old_lng\": row['longitude'],\n",
    "        \"new_lat\": row_new['latitude'],\n",
    "        \"new_lng\": row_new['longitude'],\n",
    "        \"new_district\": row_new['district'],\n",
    "        \"old_district\": row['district'],\n",
    "        \"old_ix\": row.name,\n",
    "        \"new_ix\": row_new.name,\n",
    "    })\n",
    "    \n",
    "    for item in ['city', 'province', 'country', 'district']:\n",
    "        res_dict.update({'{0}_dst'.format(item): editdistance.eval(row[item], row_new[item])})\n",
    "    \n",
    "    return res_dict\n",
    "\n",
    "dicts = [compare_df(x, df_na_old, df_na) for x in min_dict]\n",
    "df_comp = pd.DataFrame(dicts)\n",
    "\n",
    "print(df_comp.shape)\n",
    "df_comp.head()"
   ]
  },
  {
   "cell_type": "markdown",
   "metadata": {},
   "source": [
    "### Get all geosure_ids whose difference in district distance slower than two. It means we let go subtle difference between district names"
   ]
  },
  {
   "cell_type": "code",
   "execution_count": 17,
   "metadata": {},
   "outputs": [
    {
     "name": "stdout",
     "output_type": "stream",
     "text": [
      "902\n"
     ]
    }
   ],
   "source": [
    "comp_good = df_comp.loc[(df_comp['latlng_dist'] == 0) &\n",
    "                        (df_comp['district_dst'] <= 1)]\n",
    "ids_to_replace = list(comp_good[['old_ix', 'new_ix']].T.to_dict().values())\n",
    "print(len(ids_to_replace))"
   ]
  },
  {
   "cell_type": "markdown",
   "metadata": {},
   "source": [
    "### Construct dataframe"
   ]
  },
  {
   "cell_type": "code",
   "execution_count": 25,
   "metadata": {},
   "outputs": [
    {
     "data": {
      "text/html": [
       "<div>\n",
       "<style scoped>\n",
       "    .dataframe tbody tr th:only-of-type {\n",
       "        vertical-align: middle;\n",
       "    }\n",
       "\n",
       "    .dataframe tbody tr th {\n",
       "        vertical-align: top;\n",
       "    }\n",
       "\n",
       "    .dataframe thead th {\n",
       "        text-align: right;\n",
       "    }\n",
       "</style>\n",
       "<table border=\"1\" class=\"dataframe\">\n",
       "  <thead>\n",
       "    <tr style=\"text-align: right;\">\n",
       "      <th></th>\n",
       "      <th>geosure_id</th>\n",
       "      <th>record</th>\n",
       "      <th>continent</th>\n",
       "      <th>wiki_continent</th>\n",
       "      <th>country</th>\n",
       "      <th>wiki_country</th>\n",
       "      <th>country_code</th>\n",
       "      <th>province</th>\n",
       "      <th>wiki_city</th>\n",
       "      <th>city</th>\n",
       "      <th>...</th>\n",
       "      <th>population</th>\n",
       "      <th>latitude</th>\n",
       "      <th>longitude</th>\n",
       "      <th>composite</th>\n",
       "      <th>physical</th>\n",
       "      <th>women</th>\n",
       "      <th>theft</th>\n",
       "      <th>political</th>\n",
       "      <th>health</th>\n",
       "      <th>lgbtq</th>\n",
       "    </tr>\n",
       "  </thead>\n",
       "  <tbody>\n",
       "    <tr>\n",
       "      <th>0</th>\n",
       "      <td>G1000000</td>\n",
       "      <td>1</td>\n",
       "      <td>Central America</td>\n",
       "      <td>Q27611</td>\n",
       "      <td>Saint-Pierre &amp; Miquelon</td>\n",
       "      <td>Q142</td>\n",
       "      <td>PM</td>\n",
       "      <td>NaN</td>\n",
       "      <td>Q185678</td>\n",
       "      <td>Saint-Pierre</td>\n",
       "      <td>...</td>\n",
       "      <td>3000.0</td>\n",
       "      <td>46.781013</td>\n",
       "      <td>-56.177646</td>\n",
       "      <td>22</td>\n",
       "      <td>18</td>\n",
       "      <td>17</td>\n",
       "      <td>23</td>\n",
       "      <td>25</td>\n",
       "      <td>30</td>\n",
       "      <td>24</td>\n",
       "    </tr>\n",
       "    <tr>\n",
       "      <th>1</th>\n",
       "      <td>G1000002</td>\n",
       "      <td>3</td>\n",
       "      <td>Central America</td>\n",
       "      <td>Q27611</td>\n",
       "      <td>Antigua and Barbuda</td>\n",
       "      <td>Q781</td>\n",
       "      <td>AG</td>\n",
       "      <td>NaN</td>\n",
       "      <td>Q36262</td>\n",
       "      <td>St. John's</td>\n",
       "      <td>...</td>\n",
       "      <td>51247.0</td>\n",
       "      <td>17.117528</td>\n",
       "      <td>-61.845557</td>\n",
       "      <td>26</td>\n",
       "      <td>27</td>\n",
       "      <td>23</td>\n",
       "      <td>26</td>\n",
       "      <td>19</td>\n",
       "      <td>25</td>\n",
       "      <td>33</td>\n",
       "    </tr>\n",
       "    <tr>\n",
       "      <th>2</th>\n",
       "      <td>G1000001</td>\n",
       "      <td>2</td>\n",
       "      <td>Central America</td>\n",
       "      <td>Q27611</td>\n",
       "      <td>Anguilla</td>\n",
       "      <td>Q145</td>\n",
       "      <td>AI</td>\n",
       "      <td>NaN</td>\n",
       "      <td>Q30994</td>\n",
       "      <td>The Valley</td>\n",
       "      <td>...</td>\n",
       "      <td>1169.0</td>\n",
       "      <td>18.220554</td>\n",
       "      <td>-63.068615</td>\n",
       "      <td>27</td>\n",
       "      <td>29</td>\n",
       "      <td>25</td>\n",
       "      <td>27</td>\n",
       "      <td>19</td>\n",
       "      <td>25</td>\n",
       "      <td>35</td>\n",
       "    </tr>\n",
       "    <tr>\n",
       "      <th>3</th>\n",
       "      <td>G1000008</td>\n",
       "      <td>9</td>\n",
       "      <td>Central America</td>\n",
       "      <td>Q27611</td>\n",
       "      <td>Bahamas</td>\n",
       "      <td>Q778</td>\n",
       "      <td>BS</td>\n",
       "      <td>NaN</td>\n",
       "      <td>Q2467</td>\n",
       "      <td>Nassau</td>\n",
       "      <td>...</td>\n",
       "      <td>NaN</td>\n",
       "      <td>25.082661</td>\n",
       "      <td>-77.360437</td>\n",
       "      <td>26</td>\n",
       "      <td>26</td>\n",
       "      <td>23</td>\n",
       "      <td>27</td>\n",
       "      <td>19</td>\n",
       "      <td>27</td>\n",
       "      <td>32</td>\n",
       "    </tr>\n",
       "    <tr>\n",
       "      <th>4</th>\n",
       "      <td>G1000006</td>\n",
       "      <td>7</td>\n",
       "      <td>Central America</td>\n",
       "      <td>Q27611</td>\n",
       "      <td>Bahamas</td>\n",
       "      <td>Q778</td>\n",
       "      <td>BS</td>\n",
       "      <td>NaN</td>\n",
       "      <td>Q2467</td>\n",
       "      <td>Nassau</td>\n",
       "      <td>...</td>\n",
       "      <td>246329.0</td>\n",
       "      <td>25.060000</td>\n",
       "      <td>-77.345000</td>\n",
       "      <td>27</td>\n",
       "      <td>27</td>\n",
       "      <td>24</td>\n",
       "      <td>27</td>\n",
       "      <td>19</td>\n",
       "      <td>27</td>\n",
       "      <td>33</td>\n",
       "    </tr>\n",
       "  </tbody>\n",
       "</table>\n",
       "<p>5 rows × 25 columns</p>\n",
       "</div>"
      ],
      "text/plain": [
       "  geosure_id  record        continent wiki_continent                  country  \\\n",
       "0   G1000000       1  Central America         Q27611  Saint-Pierre & Miquelon   \n",
       "1   G1000002       3  Central America         Q27611      Antigua and Barbuda   \n",
       "2   G1000001       2  Central America         Q27611                 Anguilla   \n",
       "3   G1000008       9  Central America         Q27611                  Bahamas   \n",
       "4   G1000006       7  Central America         Q27611                  Bahamas   \n",
       "\n",
       "  wiki_country country_code province wiki_city          city  ...    \\\n",
       "0         Q142           PM      NaN   Q185678  Saint-Pierre  ...     \n",
       "1         Q781           AG      NaN    Q36262    St. John's  ...     \n",
       "2         Q145           AI      NaN    Q30994    The Valley  ...     \n",
       "3         Q778           BS      NaN     Q2467        Nassau  ...     \n",
       "4         Q778           BS      NaN     Q2467        Nassau  ...     \n",
       "\n",
       "  population   latitude  longitude composite physical  women  theft  \\\n",
       "0     3000.0  46.781013 -56.177646        22       18     17     23   \n",
       "1    51247.0  17.117528 -61.845557        26       27     23     26   \n",
       "2     1169.0  18.220554 -63.068615        27       29     25     27   \n",
       "3        NaN  25.082661 -77.360437        26       26     23     27   \n",
       "4   246329.0  25.060000 -77.345000        27       27     24     27   \n",
       "\n",
       "   political  health  lgbtq  \n",
       "0         25      30     24  \n",
       "1         19      25     33  \n",
       "2         19      25     35  \n",
       "3         19      27     32  \n",
       "4         19      27     33  \n",
       "\n",
       "[5 rows x 25 columns]"
      ]
     },
     "execution_count": 25,
     "metadata": {},
     "output_type": "execute_result"
    }
   ],
   "source": [
    "def create_df_dict(item, df_new, df_old):\n",
    "    new_dict = df_old.iloc[item['old_ix']][old_columns].to_dict()\n",
    "    new_dict.update(df_new.iloc[item['new_ix']][new_columns].to_dict())\n",
    "    return new_dict\n",
    "\n",
    "dicts = [create_df_dict(i, df_na, df) for i in ids_to_replace]\n",
    "df_replace = pd.DataFrame(dicts)\n",
    "df_replace = df_replace[df.columns]\n",
    "df_replace.head()"
   ]
  },
  {
   "cell_type": "markdown",
   "metadata": {},
   "source": [
    "## Drop items from dataframe. "
   ]
  },
  {
   "cell_type": "markdown",
   "metadata": {},
   "source": [
    "## Include new scores from removed"
   ]
  },
  {
   "cell_type": "code",
   "execution_count": 26,
   "metadata": {},
   "outputs": [
    {
     "name": "stdout",
     "output_type": "stream",
     "text": [
      "Len geosure ids: 902\n",
      "New shape (22569, 25)\n",
      "New shape after concat (23471, 26)\n"
     ]
    }
   ],
   "source": [
    "geosure_ids = df_replace['geosure_id'].tolist()\n",
    "print(\"Len geosure ids: {}\".format(len(geosure_ids)))\n",
    "\n",
    "df_new = df.loc[~df['geosure_id'].isin(geosure_ids)].copy()\n",
    "\n",
    "print('New shape {0}'.format(df_new.shape))\n",
    "\n",
    "df_new = pd.concat([df_new, df_replace], axis=0)\n",
    "\n",
    "df_new = df_new.reset_index()\n",
    "df_new.sort_values(by='geosure_id', inplace=True)\n",
    "\n",
    "print('New shape after concat {0}'.format(df_new.shape))"
   ]
  },
  {
   "cell_type": "markdown",
   "metadata": {},
   "source": [
    "### Compute difference between scores"
   ]
  },
  {
   "cell_type": "code",
   "execution_count": 44,
   "metadata": {},
   "outputs": [
    {
     "name": "stdout",
     "output_type": "stream",
     "text": [
      "Number of rows changed: 901\n"
     ]
    }
   ],
   "source": [
    "def check_diff(df, df_new):\n",
    "    diffs = (df[new_columns].as_matrix().sum(axis=1) - df_new[new_columns].as_matrix().sum(axis=1))\n",
    "    return (diffs != 0).sum()\n",
    "    \n",
    "print(\"Number of rows changed: {0}\".format(check_diff(df, df_new)))"
   ]
  },
  {
   "cell_type": "markdown",
   "metadata": {},
   "source": [
    "## Include new items from NA"
   ]
  },
  {
   "cell_type": "code",
   "execution_count": 49,
   "metadata": {},
   "outputs": [
    {
     "name": "stdout",
     "output_type": "stream",
     "text": [
      "3252\n",
      "(3252, 24)\n"
     ]
    }
   ],
   "source": [
    "comp_bad = df_comp.loc[(df_comp['latlng_dist'] != 0)]\n",
    "records_to_add = comp_bad['new_record']\n",
    "print(len(records_to_add))\n",
    "\n",
    "df_add = df_na.loc[df_na['record'].isin(records_to_add)]\n",
    "print(df_add.shape)"
   ]
  },
  {
   "cell_type": "markdown",
   "metadata": {},
   "source": [
    "## Get geosure id counter for North America"
   ]
  },
  {
   "cell_type": "code",
   "execution_count": 50,
   "metadata": {},
   "outputs": [
    {
     "name": "stderr",
     "output_type": "stream",
     "text": [
      "/venvs/pdi/lib/python3.5/site-packages/ipykernel_launcher.py:5: SettingWithCopyWarning: \n",
      "A value is trying to be set on a copy of a slice from a DataFrame.\n",
      "Try using .loc[row_indexer,col_indexer] = value instead\n",
      "\n",
      "See the caveats in the documentation: http://pandas.pydata.org/pandas-docs/stable/indexing.html#indexing-view-versus-copy\n",
      "  \"\"\"\n"
     ]
    }
   ],
   "source": [
    "gs_id = df.loc[df['continent'] == 'North America'].iloc[-1]['geosure_id']\n",
    "int_id = int(gs_id.replace('G', '')) + 1\n",
    "\n",
    "df_add['geosure_id'] = pd.Series(['G' + str(x) for x in range(int_id, int_id + df_add.shape[0])],\n",
    "                                  index=df_add.index)"
   ]
  },
  {
   "cell_type": "markdown",
   "metadata": {},
   "source": [
    "## Get missing items"
   ]
  },
  {
   "cell_type": "markdown",
   "metadata": {},
   "source": [
    "### Get country codes for all"
   ]
  },
  {
   "cell_type": "code",
   "execution_count": 51,
   "metadata": {},
   "outputs": [
    {
     "data": {
      "text/html": [
       "<div>\n",
       "<style scoped>\n",
       "    .dataframe tbody tr th:only-of-type {\n",
       "        vertical-align: middle;\n",
       "    }\n",
       "\n",
       "    .dataframe tbody tr th {\n",
       "        vertical-align: top;\n",
       "    }\n",
       "\n",
       "    .dataframe thead th {\n",
       "        text-align: right;\n",
       "    }\n",
       "</style>\n",
       "<table border=\"1\" class=\"dataframe\">\n",
       "  <thead>\n",
       "    <tr style=\"text-align: right;\">\n",
       "      <th></th>\n",
       "      <th>country_code</th>\n",
       "      <th>country</th>\n",
       "    </tr>\n",
       "  </thead>\n",
       "  <tbody>\n",
       "    <tr>\n",
       "      <th>0</th>\n",
       "      <td>AD</td>\n",
       "      <td>Andorra</td>\n",
       "    </tr>\n",
       "    <tr>\n",
       "      <th>1</th>\n",
       "      <td>AE</td>\n",
       "      <td>United Arab Emirates</td>\n",
       "    </tr>\n",
       "    <tr>\n",
       "      <th>2</th>\n",
       "      <td>AF</td>\n",
       "      <td>Afghanistan</td>\n",
       "    </tr>\n",
       "    <tr>\n",
       "      <th>3</th>\n",
       "      <td>AG</td>\n",
       "      <td>Antigua and Barbuda</td>\n",
       "    </tr>\n",
       "    <tr>\n",
       "      <th>4</th>\n",
       "      <td>AI</td>\n",
       "      <td>Anguilla</td>\n",
       "    </tr>\n",
       "  </tbody>\n",
       "</table>\n",
       "</div>"
      ],
      "text/plain": [
       "  country_code               country\n",
       "0           AD               Andorra\n",
       "1           AE  United Arab Emirates\n",
       "2           AF           Afghanistan\n",
       "3           AG   Antigua and Barbuda\n",
       "4           AI              Anguilla"
      ]
     },
     "execution_count": 51,
     "metadata": {},
     "output_type": "execute_result"
    }
   ],
   "source": [
    "countries = df.groupby(['country_code', 'country']).size().reset_index(name='count')\n",
    "countries.drop(labels=['count'], inplace=True, axis=1)\n",
    "countries.head()"
   ]
  },
  {
   "cell_type": "code",
   "execution_count": 52,
   "metadata": {},
   "outputs": [],
   "source": [
    "df_add = df_add.merge(countries, how='inner', on='country')\n",
    "# df_add.columns = [r.lower() for r in df_na_rem.columns]\n",
    "df_add = df_add[df_na_old.columns.tolist()]"
   ]
  },
  {
   "cell_type": "markdown",
   "metadata": {},
   "source": [
    "### Concatenate with last dataframe."
   ]
  },
  {
   "cell_type": "code",
   "execution_count": 53,
   "metadata": {
    "collapsed": true
   },
   "outputs": [],
   "source": [
    "df_new = pd.concat([df_new, df_add], axis=0)\n",
    "\n",
    "df_new.sort_values(by='geosure_id', inplace=True)"
   ]
  },
  {
   "cell_type": "markdown",
   "metadata": {},
   "source": [
    "# Update: Fix houston and Dallas"
   ]
  },
  {
   "cell_type": "code",
   "execution_count": 59,
   "metadata": {},
   "outputs": [
    {
     "name": "stdout",
     "output_type": "stream",
     "text": [
      "(26723, 27)\n",
      "(151, 23)\n"
     ]
    }
   ],
   "source": [
    "old_df = df.copy()\n",
    "df = df_new.copy()\n",
    "df_tx = pd.read_csv('/Users/jorge/Desktop/mdf_texas.csv')\n",
    "print(df.shape)\n",
    "print(df_tx.shape)"
   ]
  },
  {
   "cell_type": "code",
   "execution_count": 61,
   "metadata": {},
   "outputs": [
    {
     "name": "stdout",
     "output_type": "stream",
     "text": [
      "(144, 27)\n"
     ]
    }
   ],
   "source": [
    "# df_tx_old = df.loc[(df['city'].isin(['Houston', 'Dallas'])) & (df['country'] == 'United States')].copy().reset_index(drop=True)\n",
    "df_tx_old = df.loc[(df['city'].isin(['Houston', 'Dallas']))].copy().reset_index(drop=True)\n",
    "print(df_tx_old.shape)"
   ]
  },
  {
   "cell_type": "code",
   "execution_count": 62,
   "metadata": {},
   "outputs": [],
   "source": [
    "df_tx_old['coords'] = list(zip(df_tx_old['latitude'], df_tx_old['longitude']))\n",
    "df_tx['coords'] = list(zip(df_tx['latitude'], df_tx['longitude']))"
   ]
  },
  {
   "cell_type": "code",
   "execution_count": 63,
   "metadata": {},
   "outputs": [],
   "source": [
    "min_dict = [get_id(df_tx_old, row) for _, row in df_tx.iterrows()]"
   ]
  },
  {
   "cell_type": "code",
   "execution_count": 65,
   "metadata": {},
   "outputs": [
    {
     "name": "stdout",
     "output_type": "stream",
     "text": [
      "(151, 18)\n"
     ]
    },
    {
     "data": {
      "text/html": [
       "<div>\n",
       "<style scoped>\n",
       "    .dataframe tbody tr th:only-of-type {\n",
       "        vertical-align: middle;\n",
       "    }\n",
       "\n",
       "    .dataframe tbody tr th {\n",
       "        vertical-align: top;\n",
       "    }\n",
       "\n",
       "    .dataframe thead th {\n",
       "        text-align: right;\n",
       "    }\n",
       "</style>\n",
       "<table border=\"1\" class=\"dataframe\">\n",
       "  <thead>\n",
       "    <tr style=\"text-align: right;\">\n",
       "      <th></th>\n",
       "      <th>city_dst</th>\n",
       "      <th>country_dst</th>\n",
       "      <th>district_dst</th>\n",
       "      <th>geosure_id</th>\n",
       "      <th>latlng_dist</th>\n",
       "      <th>new_city</th>\n",
       "      <th>new_district</th>\n",
       "      <th>new_ix</th>\n",
       "      <th>new_lat</th>\n",
       "      <th>new_lng</th>\n",
       "      <th>new_record</th>\n",
       "      <th>old_city</th>\n",
       "      <th>old_district</th>\n",
       "      <th>old_ix</th>\n",
       "      <th>old_lat</th>\n",
       "      <th>old_lng</th>\n",
       "      <th>old_record</th>\n",
       "      <th>province_dst</th>\n",
       "    </tr>\n",
       "  </thead>\n",
       "  <tbody>\n",
       "    <tr>\n",
       "      <th>0</th>\n",
       "      <td>0</td>\n",
       "      <td>0</td>\n",
       "      <td>0</td>\n",
       "      <td>G2000341</td>\n",
       "      <td>0.0</td>\n",
       "      <td>Dallas</td>\n",
       "      <td>Overall</td>\n",
       "      <td>0</td>\n",
       "      <td>32.780140</td>\n",
       "      <td>-96.800451</td>\n",
       "      <td>3610</td>\n",
       "      <td>Dallas</td>\n",
       "      <td>Overall</td>\n",
       "      <td>1</td>\n",
       "      <td>32.780140</td>\n",
       "      <td>-96.800451</td>\n",
       "      <td>342</td>\n",
       "      <td>0</td>\n",
       "    </tr>\n",
       "    <tr>\n",
       "      <th>1</th>\n",
       "      <td>0</td>\n",
       "      <td>0</td>\n",
       "      <td>0</td>\n",
       "      <td>G2003866</td>\n",
       "      <td>0.0</td>\n",
       "      <td>Dallas</td>\n",
       "      <td>Arts District</td>\n",
       "      <td>1</td>\n",
       "      <td>32.789731</td>\n",
       "      <td>-96.798262</td>\n",
       "      <td>3611</td>\n",
       "      <td>Dallas</td>\n",
       "      <td>Arts District</td>\n",
       "      <td>91</td>\n",
       "      <td>32.789731</td>\n",
       "      <td>-96.798262</td>\n",
       "      <td>3611</td>\n",
       "      <td>0</td>\n",
       "    </tr>\n",
       "    <tr>\n",
       "      <th>2</th>\n",
       "      <td>0</td>\n",
       "      <td>0</td>\n",
       "      <td>0</td>\n",
       "      <td>G2003867</td>\n",
       "      <td>0.0</td>\n",
       "      <td>Dallas</td>\n",
       "      <td>Bishop Arts</td>\n",
       "      <td>2</td>\n",
       "      <td>32.747256</td>\n",
       "      <td>-96.830410</td>\n",
       "      <td>3612</td>\n",
       "      <td>Dallas</td>\n",
       "      <td>Bishop Arts</td>\n",
       "      <td>92</td>\n",
       "      <td>32.747256</td>\n",
       "      <td>-96.830410</td>\n",
       "      <td>3612</td>\n",
       "      <td>0</td>\n",
       "    </tr>\n",
       "    <tr>\n",
       "      <th>3</th>\n",
       "      <td>0</td>\n",
       "      <td>0</td>\n",
       "      <td>0</td>\n",
       "      <td>G2003868</td>\n",
       "      <td>0.0</td>\n",
       "      <td>Dallas</td>\n",
       "      <td>Bluff View</td>\n",
       "      <td>3</td>\n",
       "      <td>32.855947</td>\n",
       "      <td>-96.832420</td>\n",
       "      <td>3613</td>\n",
       "      <td>Dallas</td>\n",
       "      <td>Bluff View</td>\n",
       "      <td>93</td>\n",
       "      <td>32.855947</td>\n",
       "      <td>-96.832420</td>\n",
       "      <td>3613</td>\n",
       "      <td>0</td>\n",
       "    </tr>\n",
       "    <tr>\n",
       "      <th>4</th>\n",
       "      <td>0</td>\n",
       "      <td>0</td>\n",
       "      <td>0</td>\n",
       "      <td>G2003869</td>\n",
       "      <td>0.0</td>\n",
       "      <td>Dallas</td>\n",
       "      <td>Bryan Place</td>\n",
       "      <td>4</td>\n",
       "      <td>32.792382</td>\n",
       "      <td>-96.788218</td>\n",
       "      <td>3614</td>\n",
       "      <td>Dallas</td>\n",
       "      <td>Bryan Place</td>\n",
       "      <td>94</td>\n",
       "      <td>32.792382</td>\n",
       "      <td>-96.788218</td>\n",
       "      <td>3614</td>\n",
       "      <td>0</td>\n",
       "    </tr>\n",
       "  </tbody>\n",
       "</table>\n",
       "</div>"
      ],
      "text/plain": [
       "   city_dst  country_dst  district_dst geosure_id  latlng_dist new_city  \\\n",
       "0         0            0             0   G2000341          0.0   Dallas   \n",
       "1         0            0             0   G2003866          0.0   Dallas   \n",
       "2         0            0             0   G2003867          0.0   Dallas   \n",
       "3         0            0             0   G2003868          0.0   Dallas   \n",
       "4         0            0             0   G2003869          0.0   Dallas   \n",
       "\n",
       "    new_district  new_ix    new_lat    new_lng  new_record old_city  \\\n",
       "0        Overall       0  32.780140 -96.800451        3610   Dallas   \n",
       "1  Arts District       1  32.789731 -96.798262        3611   Dallas   \n",
       "2    Bishop Arts       2  32.747256 -96.830410        3612   Dallas   \n",
       "3     Bluff View       3  32.855947 -96.832420        3613   Dallas   \n",
       "4    Bryan Place       4  32.792382 -96.788218        3614   Dallas   \n",
       "\n",
       "    old_district  old_ix    old_lat    old_lng  old_record  province_dst  \n",
       "0        Overall       1  32.780140 -96.800451         342             0  \n",
       "1  Arts District      91  32.789731 -96.798262        3611             0  \n",
       "2    Bishop Arts      92  32.747256 -96.830410        3612             0  \n",
       "3     Bluff View      93  32.855947 -96.832420        3613             0  \n",
       "4    Bryan Place      94  32.792382 -96.788218        3614             0  "
      ]
     },
     "execution_count": 65,
     "metadata": {},
     "output_type": "execute_result"
    }
   ],
   "source": [
    "dicts = [compare_df(x, df_tx_old, df_tx) for x in min_dict]\n",
    "df_comp = pd.DataFrame(dicts)\n",
    "\n",
    "print(df_comp.shape)\n",
    "df_comp.head()"
   ]
  },
  {
   "cell_type": "code",
   "execution_count": 66,
   "metadata": {},
   "outputs": [
    {
     "name": "stdout",
     "output_type": "stream",
     "text": [
      "140\n"
     ]
    }
   ],
   "source": [
    "comp_good = df_comp.loc[(df_comp['latlng_dist'] == 0) &\n",
    "                        (df_comp['district_dst'] <= 1)]\n",
    "ids_to_replace = list(comp_good[['old_ix', 'new_ix']].T.to_dict().values())\n",
    "print(len(ids_to_replace))"
   ]
  },
  {
   "cell_type": "code",
   "execution_count": 102,
   "metadata": {},
   "outputs": [
    {
     "data": {
      "text/html": [
       "<div>\n",
       "<style scoped>\n",
       "    .dataframe tbody tr th:only-of-type {\n",
       "        vertical-align: middle;\n",
       "    }\n",
       "\n",
       "    .dataframe tbody tr th {\n",
       "        vertical-align: top;\n",
       "    }\n",
       "\n",
       "    .dataframe thead th {\n",
       "        text-align: right;\n",
       "    }\n",
       "</style>\n",
       "<table border=\"1\" class=\"dataframe\">\n",
       "  <thead>\n",
       "    <tr style=\"text-align: right;\">\n",
       "      <th></th>\n",
       "      <th>city</th>\n",
       "      <th>city_original</th>\n",
       "      <th>city_type</th>\n",
       "      <th>composite</th>\n",
       "      <th>continent</th>\n",
       "      <th>country</th>\n",
       "      <th>country_code</th>\n",
       "      <th>district</th>\n",
       "      <th>geosure_id</th>\n",
       "      <th>health</th>\n",
       "      <th>...</th>\n",
       "      <th>physical</th>\n",
       "      <th>political</th>\n",
       "      <th>population</th>\n",
       "      <th>province</th>\n",
       "      <th>record</th>\n",
       "      <th>theft</th>\n",
       "      <th>wiki_city</th>\n",
       "      <th>wiki_continent</th>\n",
       "      <th>wiki_country</th>\n",
       "      <th>women</th>\n",
       "    </tr>\n",
       "  </thead>\n",
       "  <tbody>\n",
       "    <tr>\n",
       "      <th>0</th>\n",
       "      <td>Dallas</td>\n",
       "      <td>Dallas</td>\n",
       "      <td>None</td>\n",
       "      <td>45</td>\n",
       "      <td>North America</td>\n",
       "      <td>United States</td>\n",
       "      <td>US</td>\n",
       "      <td>Overall</td>\n",
       "      <td>G2000341</td>\n",
       "      <td>45</td>\n",
       "      <td>...</td>\n",
       "      <td>50</td>\n",
       "      <td>37</td>\n",
       "      <td>1320939.0</td>\n",
       "      <td>Texas</td>\n",
       "      <td>342</td>\n",
       "      <td>50</td>\n",
       "      <td>Q16557</td>\n",
       "      <td>Q49</td>\n",
       "      <td>Q30</td>\n",
       "      <td>36</td>\n",
       "    </tr>\n",
       "    <tr>\n",
       "      <th>1</th>\n",
       "      <td>Dallas</td>\n",
       "      <td>Dallas</td>\n",
       "      <td>None</td>\n",
       "      <td>51</td>\n",
       "      <td>North America</td>\n",
       "      <td>United States</td>\n",
       "      <td>US</td>\n",
       "      <td>Arts District</td>\n",
       "      <td>G2003866</td>\n",
       "      <td>52</td>\n",
       "      <td>...</td>\n",
       "      <td>66</td>\n",
       "      <td>41</td>\n",
       "      <td>NaN</td>\n",
       "      <td>Texas</td>\n",
       "      <td>3611</td>\n",
       "      <td>63</td>\n",
       "      <td>Q16557</td>\n",
       "      <td>Q49</td>\n",
       "      <td>Q30</td>\n",
       "      <td>42</td>\n",
       "    </tr>\n",
       "    <tr>\n",
       "      <th>2</th>\n",
       "      <td>Dallas</td>\n",
       "      <td>Dallas</td>\n",
       "      <td>None</td>\n",
       "      <td>42</td>\n",
       "      <td>North America</td>\n",
       "      <td>United States</td>\n",
       "      <td>US</td>\n",
       "      <td>Bishop Arts</td>\n",
       "      <td>G2003867</td>\n",
       "      <td>45</td>\n",
       "      <td>...</td>\n",
       "      <td>45</td>\n",
       "      <td>35</td>\n",
       "      <td>NaN</td>\n",
       "      <td>Texas</td>\n",
       "      <td>3612</td>\n",
       "      <td>54</td>\n",
       "      <td>Q16557</td>\n",
       "      <td>Q49</td>\n",
       "      <td>Q30</td>\n",
       "      <td>35</td>\n",
       "    </tr>\n",
       "    <tr>\n",
       "      <th>3</th>\n",
       "      <td>Dallas</td>\n",
       "      <td>Dallas</td>\n",
       "      <td>None</td>\n",
       "      <td>25</td>\n",
       "      <td>North America</td>\n",
       "      <td>United States</td>\n",
       "      <td>US</td>\n",
       "      <td>Bluff View</td>\n",
       "      <td>G2003868</td>\n",
       "      <td>31</td>\n",
       "      <td>...</td>\n",
       "      <td>20</td>\n",
       "      <td>27</td>\n",
       "      <td>NaN</td>\n",
       "      <td>Texas</td>\n",
       "      <td>3613</td>\n",
       "      <td>24</td>\n",
       "      <td>Q16557</td>\n",
       "      <td>Q49</td>\n",
       "      <td>Q30</td>\n",
       "      <td>24</td>\n",
       "    </tr>\n",
       "    <tr>\n",
       "      <th>4</th>\n",
       "      <td>Dallas</td>\n",
       "      <td>Dallas</td>\n",
       "      <td>None</td>\n",
       "      <td>56</td>\n",
       "      <td>North America</td>\n",
       "      <td>United States</td>\n",
       "      <td>US</td>\n",
       "      <td>Bryan Place</td>\n",
       "      <td>G2003869</td>\n",
       "      <td>52</td>\n",
       "      <td>...</td>\n",
       "      <td>66</td>\n",
       "      <td>41</td>\n",
       "      <td>NaN</td>\n",
       "      <td>Texas</td>\n",
       "      <td>3614</td>\n",
       "      <td>63</td>\n",
       "      <td>Q16557</td>\n",
       "      <td>Q49</td>\n",
       "      <td>Q30</td>\n",
       "      <td>42</td>\n",
       "    </tr>\n",
       "  </tbody>\n",
       "</table>\n",
       "<p>5 rows × 25 columns</p>\n",
       "</div>"
      ],
      "text/plain": [
       "     city city_original city_type  composite      continent        country  \\\n",
       "0  Dallas        Dallas      None         45  North America  United States   \n",
       "1  Dallas        Dallas      None         51  North America  United States   \n",
       "2  Dallas        Dallas      None         42  North America  United States   \n",
       "3  Dallas        Dallas      None         25  North America  United States   \n",
       "4  Dallas        Dallas      None         56  North America  United States   \n",
       "\n",
       "  country_code       district geosure_id  health  ...   physical political  \\\n",
       "0           US        Overall   G2000341      45  ...         50        37   \n",
       "1           US  Arts District   G2003866      52  ...         66        41   \n",
       "2           US    Bishop Arts   G2003867      45  ...         45        35   \n",
       "3           US     Bluff View   G2003868      31  ...         20        27   \n",
       "4           US    Bryan Place   G2003869      52  ...         66        41   \n",
       "\n",
       "   population  province  record  theft  wiki_city  wiki_continent  \\\n",
       "0   1320939.0     Texas     342     50     Q16557             Q49   \n",
       "1         NaN     Texas    3611     63     Q16557             Q49   \n",
       "2         NaN     Texas    3612     54     Q16557             Q49   \n",
       "3         NaN     Texas    3613     24     Q16557             Q49   \n",
       "4         NaN     Texas    3614     63     Q16557             Q49   \n",
       "\n",
       "  wiki_country  women  \n",
       "0          Q30     36  \n",
       "1          Q30     42  \n",
       "2          Q30     35  \n",
       "3          Q30     24  \n",
       "4          Q30     42  \n",
       "\n",
       "[5 rows x 25 columns]"
      ]
     },
     "execution_count": 102,
     "metadata": {},
     "output_type": "execute_result"
    }
   ],
   "source": [
    "dicts = [create_df_dict(i, df_tx, df_tx_old) for i in ids_to_replace]\n",
    "df_replace = pd.DataFrame(dicts)\n",
    "df_replace.head()"
   ]
  },
  {
   "cell_type": "markdown",
   "metadata": {},
   "source": [
    "## Drop items from dataframe. "
   ]
  },
  {
   "cell_type": "markdown",
   "metadata": {},
   "source": [
    "## Include new scores from removed"
   ]
  },
  {
   "cell_type": "code",
   "execution_count": 103,
   "metadata": {},
   "outputs": [
    {
     "name": "stdout",
     "output_type": "stream",
     "text": [
      "Len geosure ids: 140\n",
      "New shape (26583, 27)\n",
      "New shape after concat (26723, 28)\n"
     ]
    }
   ],
   "source": [
    "geosure_ids = df_replace['geosure_id'].tolist()\n",
    "print(\"Len geosure ids: {}\".format(len(geosure_ids)))\n",
    "\n",
    "df_new = df.loc[~df['geosure_id'].isin(geosure_ids)].copy()\n",
    "\n",
    "print('New shape {0}'.format(df_new.shape))\n",
    "\n",
    "df_new = pd.concat([df_new, df_replace], axis=0)\n",
    "\n",
    "df_new = df_new.reset_index()\n",
    "df_new.sort_values(by='geosure_id', inplace=True)\n",
    "\n",
    "print('New shape after concat {0}'.format(df_new.shape))"
   ]
  },
  {
   "cell_type": "markdown",
   "metadata": {},
   "source": [
    "### Compute difference between scores"
   ]
  },
  {
   "cell_type": "code",
   "execution_count": 104,
   "metadata": {},
   "outputs": [
    {
     "name": "stdout",
     "output_type": "stream",
     "text": [
      "Number of rows changed: 117\n"
     ]
    }
   ],
   "source": [
    "print(\"Number of rows changed: {0}\".format(check_diff(df, df_new)))"
   ]
  },
  {
   "cell_type": "markdown",
   "metadata": {},
   "source": [
    "## Include new items from Texas"
   ]
  },
  {
   "cell_type": "code",
   "execution_count": 105,
   "metadata": {},
   "outputs": [
    {
     "name": "stdout",
     "output_type": "stream",
     "text": [
      "9\n",
      "(9, 24)\n"
     ]
    }
   ],
   "source": [
    "comp_bad = df_comp.loc[(df_comp['latlng_dist'] != 0)]\n",
    "records_to_add = comp_bad['new_record']\n",
    "print(len(records_to_add))\n",
    "\n",
    "df_add = df_na.loc[df_na['record'].isin(records_to_add)]\n",
    "print(df_add.shape)"
   ]
  },
  {
   "cell_type": "markdown",
   "metadata": {},
   "source": [
    "## Get geosure id counter for North America"
   ]
  },
  {
   "cell_type": "code",
   "execution_count": 106,
   "metadata": {},
   "outputs": [
    {
     "name": "stderr",
     "output_type": "stream",
     "text": [
      "/venvs/pdi/lib/python3.5/site-packages/ipykernel_launcher.py:5: SettingWithCopyWarning: \n",
      "A value is trying to be set on a copy of a slice from a DataFrame.\n",
      "Try using .loc[row_indexer,col_indexer] = value instead\n",
      "\n",
      "See the caveats in the documentation: http://pandas.pydata.org/pandas-docs/stable/indexing.html#indexing-view-versus-copy\n",
      "  \"\"\"\n"
     ]
    }
   ],
   "source": [
    "gs_id = df.loc[df['continent'] == 'North America'].iloc[-1]['geosure_id']\n",
    "int_id = int(gs_id.replace('G', '')) + 1\n",
    "\n",
    "df_add['geosure_id'] = pd.Series(['G' + str(x) for x in range(int_id, int_id + df_add.shape[0])],\n",
    "                                  index=df_add.index)"
   ]
  },
  {
   "cell_type": "markdown",
   "metadata": {},
   "source": [
    "## Get missing items"
   ]
  },
  {
   "cell_type": "markdown",
   "metadata": {},
   "source": [
    "### Get country codes for all"
   ]
  },
  {
   "cell_type": "code",
   "execution_count": 107,
   "metadata": {
    "collapsed": true
   },
   "outputs": [],
   "source": [
    "df_add = df_add.merge(countries, how='inner', on='country')\n",
    "# df_add.columns = [r.lower() for r in df_na_rem.columns]\n",
    "df_add = df_add[df_na_old.columns.tolist()]"
   ]
  },
  {
   "cell_type": "markdown",
   "metadata": {},
   "source": [
    "### Concatenate with last dataframe."
   ]
  },
  {
   "cell_type": "code",
   "execution_count": 108,
   "metadata": {},
   "outputs": [],
   "source": [
    "df_new = pd.concat([df_new, df_add], axis=0)\n",
    "\n",
    "df_new.sort_values(by='geosure_id', inplace=True)"
   ]
  },
  {
   "cell_type": "markdown",
   "metadata": {},
   "source": [
    "# Saving results"
   ]
  },
  {
   "cell_type": "code",
   "execution_count": 116,
   "metadata": {
    "collapsed": true
   },
   "outputs": [],
   "source": [
    "df_new.to_csv('/code/gocode/src/geosure/mdf20180825.tsv', index=False, sep='\\t', encoding='utf-16')"
   ]
  }
 ],
 "metadata": {
  "kernelspec": {
   "display_name": "Python 3",
   "language": "python",
   "name": "python3"
  },
  "language_info": {
   "codemirror_mode": {
    "name": "ipython",
    "version": 3
   },
   "file_extension": ".py",
   "mimetype": "text/x-python",
   "name": "python",
   "nbconvert_exporter": "python",
   "pygments_lexer": "ipython3",
   "version": "3.5.1"
  }
 },
 "nbformat": 4,
 "nbformat_minor": 2
}
