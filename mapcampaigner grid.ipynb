{
 "cells": [
  {
   "cell_type": "markdown",
   "metadata": {},
   "source": [
    "## Generate grid"
   ]
  },
  {
   "cell_type": "code",
   "execution_count": 47,
   "metadata": {},
   "outputs": [],
   "source": [
    "import json\n",
    "import geojson as gj\n",
    "import shapely as sp\n",
    "import folium\n",
    "import math\n",
    "\n",
    "from uuid import uuid4"
   ]
  },
  {
   "cell_type": "markdown",
   "metadata": {},
   "source": [
    "### Open file"
   ]
  },
  {
   "cell_type": "code",
   "execution_count": 12,
   "metadata": {},
   "outputs": [],
   "source": [
    "with open('/code/data/geojsons/abuja.geojson', 'r') as file:\n",
    "    abuja = json.load(file)"
   ]
  },
  {
   "cell_type": "markdown",
   "metadata": {},
   "source": [
    "## Generate grid given zoom level of 11"
   ]
  },
  {
   "cell_type": "code",
   "execution_count": 48,
   "metadata": {},
   "outputs": [
    {
     "ename": "AttributeError",
     "evalue": "'UUID' object has no attribute 'hez'",
     "output_type": "error",
     "traceback": [
      "\u001b[0;31m---------------------------------------------------------------------------\u001b[0m",
      "\u001b[0;31mAttributeError\u001b[0m                            Traceback (most recent call last)",
      "\u001b[0;32m<ipython-input-48-d4c8ede924ea>\u001b[0m in \u001b[0;36m<module>\u001b[0;34m\u001b[0m\n\u001b[1;32m     86\u001b[0m \u001b[0;34m\u001b[0m\u001b[0m\n\u001b[1;32m     87\u001b[0m         \u001b[0;31m# Create geojson.\u001b[0m\u001b[0;34m\u001b[0m\u001b[0;34m\u001b[0m\u001b[0m\n\u001b[0;32m---> 88\u001b[0;31m         \u001b[0mpolygon\u001b[0m \u001b[0;34m=\u001b[0m \u001b[0mgj\u001b[0m\u001b[0;34m.\u001b[0m\u001b[0mPolygon\u001b[0m\u001b[0;34m(\u001b[0m\u001b[0mpoly\u001b[0m\u001b[0;34m,\u001b[0m \u001b[0mproperties\u001b[0m\u001b[0;34m=\u001b[0m\u001b[0;34m{\u001b[0m\u001b[0;34m\"id\"\u001b[0m\u001b[0;34m:\u001b[0m \u001b[0muuid4\u001b[0m\u001b[0;34m(\u001b[0m\u001b[0;34m)\u001b[0m\u001b[0;34m.\u001b[0m\u001b[0mhez\u001b[0m\u001b[0;34m}\u001b[0m\u001b[0;34m)\u001b[0m\u001b[0;34m\u001b[0m\u001b[0m\n\u001b[0m\u001b[1;32m     89\u001b[0m         \u001b[0mfeatures\u001b[0m\u001b[0;34m.\u001b[0m\u001b[0mappend\u001b[0m\u001b[0;34m(\u001b[0m\u001b[0mpolygon\u001b[0m\u001b[0;34m)\u001b[0m\u001b[0;34m\u001b[0m\u001b[0m\n\u001b[1;32m     90\u001b[0m \u001b[0;34m\u001b[0m\u001b[0m\n",
      "\u001b[0;31mAttributeError\u001b[0m: 'UUID' object has no attribute 'hez'"
     ]
    }
   ],
   "source": [
    "# Maximum resolution of OSM\n",
    "MAXRESOLUTION = 156543.0339\n",
    "\n",
    "# X/Y axis offset\n",
    "AXIS_OFFSET = MAXRESOLUTION * 256 / 2\n",
    "\n",
    "def degrees_to_meters(lon, lat):\n",
    "    x = lon * AXIS_OFFSET / 180\n",
    "    y = math.log(math.tan((90 + lat) * math.pi / 360)) / (math.pi / 180)\n",
    "    y = y * AXIS_OFFSET / 180\n",
    "\n",
    "    return x, y\n",
    "\n",
    "def meters_to_degrees(x,y):\n",
    "    lon = x * 180 / AXIS_OFFSET\n",
    "    # thanks magichim @ github for the correction\n",
    "    lat = math.atan(math.exp(y * math.pi / AXIS_OFFSET)) * 360 / math.pi - 90\n",
    "\n",
    "    return lon, lat\n",
    "\n",
    "\n",
    "def create_task_feature(step, x, y):\n",
    "    xmin = x * step - AXIS_OFFSET\n",
    "    ymin = y * step - AXIS_OFFSET\n",
    "    xmax = (x + 1) * step - AXIS_OFFSET\n",
    "    ymax = (y + 1) * step - AXIS_OFFSET\n",
    "    \n",
    "    minlnglat = meters_to_degrees(xmin, ymin)\n",
    "    maxlnglat = meters_to_degrees(xmax, ymax)\n",
    "\n",
    "    bbox = [minlnglat[0], minlnglat[1], maxlnglat[0], maxlnglat[1]]\n",
    "\n",
    "    return bbox\n",
    "\n",
    "\n",
    "def create_grid(bbox, zoom):\n",
    "    xmin, ymin, xmax, ymax = math.ceil(bbox[0]), math.ceil(bbox[1]), math.floor(bbox[2]), math.floor(bbox[3])\n",
    "\n",
    "    step = AXIS_OFFSET / (math.pow(2, (zoom - 1)))\n",
    "\n",
    "    xminstep = int(math.floor((xmin + AXIS_OFFSET) / step))\n",
    "    xmaxstep = int(math.ceil((xmax + AXIS_OFFSET) / step))\n",
    "    yminstep = int(math.floor((ymin + AXIS_OFFSET) / step))\n",
    "    ymaxstep = int(math.ceil((ymax + AXIS_OFFSET) / step))    \n",
    "    task_features = []\n",
    "\n",
    "    for x in range(xminstep, xmaxstep):\n",
    "        for y in range(yminstep, ymaxstep):\n",
    "            # print(x, ((2**zoom-1) - y) , zoom)\n",
    "            task_feature = create_task_feature(step, x, y)\n",
    "            task_features.append(task_feature)\n",
    "    return task_features\n",
    "    \n",
    "\n",
    "def make_grid(bbox, zoom):\n",
    "    minxy = degrees_to_meters(bbox[0], bbox[1])\n",
    "    maxxy = degrees_to_meters(bbox[2], bbox[3])\n",
    "\n",
    "    bbox = [minxy[0], minxy[1], maxxy[0], maxxy[1]]\n",
    "    grid = create_grid(bbox, zoom)\n",
    "\n",
    "    return grid\n",
    "\n",
    "\n",
    "def get_bounds(poly):\n",
    "    polygon = Polygon(poly['geometry']['coordinates'][0])\n",
    "    bounds = polygon.bounds\n",
    "    \n",
    "    return bounds\n",
    "    \n",
    "    \n",
    "polygons = MultiPolygon([Polygon(p['geometry']['coordinates'][0]) for p in abuja['features']])\n",
    "m = folium.Map(location=list(polygons.centroid.coords)[0], zoom_start=13)\n",
    "\n",
    "features = []\n",
    "for poly in [abuja['features'][0]]:\n",
    "    bounds = get_bounds(poly)\n",
    "    grid = make_grid(bounds, 17)\n",
    "\n",
    "    # Draw polygon.\n",
    "    folium.Polygon(locations=list(polygon.exterior.coords), color='red').add_to(m)\n",
    "\n",
    "    for item in grid:\n",
    "        # Get coordinates.\n",
    "        poly = list(box(*item).exterior.coords)\n",
    "        \n",
    "        # Create geojson.\n",
    "        polygon = gj.Polygon(poly, properties={\"id\": uuid4().hez})\n",
    "        features.append(polygon)\n",
    "\n",
    "        folium.Polygon(locations=list(poly.exterior.coords)).add_to(m)\n",
    "\n",
    "feature_collection = gj.FeatureCollection(features)\n",
    "        \n",
    "        "
   ]
  },
  {
   "cell_type": "code",
   "execution_count": 36,
   "metadata": {},
   "outputs": [
    {
     "data": {
      "text/plain": [
       "{\"coordinates\": [[7.319641, 9.145486], [7.319641, 9.148198], [7.316895, 9.148198], [7.316895, 9.145486], [7.319641, 9.145486]], \"properites\": {\"name\": \"lalalla\"}, \"type\": \"Polygon\"}"
      ]
     },
     "execution_count": 36,
     "metadata": {},
     "output_type": "execute_result"
    }
   ],
   "source": [
    "test = abuja['features'][0]\n",
    "boom = gj.Polygon(geometry=test[\"geometry\"][\"coordinates\"], properties={\"name\": \"AAAAA\"})\n",
    "\n",
    "alala = list(poly.exterior.coords)\n",
    "gj.Polygon(alala, properites={'name': 'lalalla'})"
   ]
  },
  {
   "cell_type": "code",
   "execution_count": 46,
   "metadata": {},
   "outputs": [
    {
     "data": {
      "text/plain": [
       "'6d73ca0a6c184afc82954eb02c06a7c7'"
      ]
     },
     "execution_count": 46,
     "metadata": {},
     "output_type": "execute_result"
    }
   ],
   "source": [
    "import uuid\n",
    "test = uuid.uuid4().hex\n",
    "test"
   ]
  }
 ],
 "metadata": {
  "kernelspec": {
   "display_name": "Python 3",
   "language": "python",
   "name": "python3"
  },
  "language_info": {
   "codemirror_mode": {
    "name": "ipython",
    "version": 3
   },
   "file_extension": ".py",
   "mimetype": "text/x-python",
   "name": "python",
   "nbconvert_exporter": "python",
   "pygments_lexer": "ipython3",
   "version": "3.6.3"
  }
 },
 "nbformat": 4,
 "nbformat_minor": 2
}
