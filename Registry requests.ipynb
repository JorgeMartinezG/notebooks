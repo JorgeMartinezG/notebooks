{
 "cells": [
  {
   "cell_type": "code",
   "execution_count": null,
   "metadata": {
    "collapsed": false
   },
   "outputs": [],
   "source": [
    "import requests\n",
    "import json\n",
    "\n",
    "api_url = 'http://registry.cientifi.co/catalog/registry/api'\n",
    "\n",
    "def get_response_time(params_dict):\n",
    "    response = requests.get(api_url, params=params_dict)\n",
    "    print response.status_code\n",
    "    print 'matchDocs = {0}'.format(json.loads(response.content)['a.matchDocs'])\n",
    "    print \"Request took {0} seconds\".format(response.elapsed.total_seconds())\n",
    "\n",
    "\n",
    "def print_title(title):\n",
    "    print title\n",
    "    print \"---------------------------------------------------------------\"\n",
    "\n",
    "\n",
    "def perform_experiments(test_params):\n",
    "    print_title('Basic request without heatmap')\n",
    "    get_response_time(default_params)\n",
    "    print\n",
    "\n",
    "    print_title('Include heatmap')\n",
    "    params = test_params.copy()\n",
    "    params['a.hm.limit'] = 1\n",
    "    get_response_time(params)\n",
    "    print\n",
    "\n",
    "    print_title('Time facetting for days')\n",
    "    params = test_params.copy()\n",
    "    params['a.hm.limit'] = 1\n",
    "    params['a.time.limit'] = 1,\n",
    "    params['a.time.gap'] = 'P1D',\n",
    "    get_response_time(params)\n",
    "    print\n",
    "    \n",
    "    print_title('Time facetting for 1 year')\n",
    "    params = test_params.copy()\n",
    "    params['a.hm.limit'] = 1\n",
    "    params['a.time.limit'] = 1,\n",
    "    params['a.time.gap'] = 'P365D',\n",
    "    get_response_time(params)\n",
    "    print\n",
    "    \n",
    "    print_title('Time facetting for 3 years')\n",
    "    params = test_params.copy()\n",
    "    params['a.hm.limit'] = 1\n",
    "    params['a.time.limit'] = 1,\n",
    "    params['a.time.gap'] = 'P1095D',\n",
    "    get_response_time(params)\n",
    "    print    "
   ]
  },
  {
   "cell_type": "markdown",
   "metadata": {},
   "source": [
    "### Run test suite"
   ]
  },
  {
   "cell_type": "code",
   "execution_count": null,
   "metadata": {
    "collapsed": false
   },
   "outputs": [
    {
     "name": "stdout",
     "output_type": "stream",
     "text": [
      "Basic request without heatmap\n",
      "---------------------------------------------------------------\n",
      "200\n",
      "matchDocs = 745446\n",
      "Request took 0.510549 seconds\n",
      "\n",
      "Include heatmap\n",
      "---------------------------------------------------------------\n",
      "200\n",
      "matchDocs = 745446\n",
      "Request took 0.850239 seconds\n",
      "\n",
      "Time facetting for days\n",
      "---------------------------------------------------------------\n",
      "200\n",
      "matchDocs = 745446\n",
      "Request took 14.941019 seconds\n",
      "\n",
      "Time facetting for 1 year\n",
      "---------------------------------------------------------------\n",
      "200\n",
      "matchDocs = 745446\n",
      "Request took 0.952656 seconds\n",
      "\n",
      "Time facetting for 3 years\n",
      "---------------------------------------------------------------\n"
     ]
    }
   ],
   "source": [
    "default_params = {\n",
    "    \"q_time\": \"[* TO *]\",\n",
    "    \"q_geo\": \"[90,-180 TO -90,180]\",\n",
    "    \"d.docs.sort\": \"score\",\n",
    "    \"d.docs.limit\": \"20\"\n",
    "}\n",
    "perform_experiments(default_params)"
   ]
  },
  {
   "cell_type": "markdown",
   "metadata": {},
   "source": [
    "### Increase docs size up to 100 documents"
   ]
  },
  {
   "cell_type": "code",
   "execution_count": null,
   "metadata": {
    "collapsed": false
   },
   "outputs": [],
   "source": [
    "default_params['d.docs.limit'] = '100'\n",
    "perform_experiments(default_params)"
   ]
  }
 ],
 "metadata": {
  "kernelspec": {
   "display_name": "Python 2",
   "language": "python",
   "name": "python2"
  },
  "language_info": {
   "codemirror_mode": {
    "name": "ipython",
    "version": 2
   },
   "file_extension": ".py",
   "mimetype": "text/x-python",
   "name": "python",
   "nbconvert_exporter": "python",
   "pygments_lexer": "ipython2",
   "version": "2.7.10"
  }
 },
 "nbformat": 4,
 "nbformat_minor": 1
}
