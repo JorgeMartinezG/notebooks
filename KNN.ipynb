{
 "cells": [
  {
   "cell_type": "markdown",
   "metadata": {},
   "source": [
    "# KNN implementation from scratch"
   ]
  },
  {
   "cell_type": "markdown",
   "metadata": {},
   "source": [
    "**Author:** Jorge Martínez mSc."
   ]
  },
  {
   "cell_type": "markdown",
   "metadata": {},
   "source": [
    "### Importing libraries"
   ]
  },
  {
   "cell_type": "code",
   "execution_count": 163,
   "metadata": {},
   "outputs": [],
   "source": [
    "from matplotlib import pyplot as plt\n",
    "import numpy as np\n",
    "import ipywidgets as widgets\n",
    "%matplotlib inline"
   ]
  },
  {
   "cell_type": "markdown",
   "metadata": {},
   "source": [
    "### Generate random data"
   ]
  },
  {
   "cell_type": "code",
   "execution_count": 164,
   "metadata": {},
   "outputs": [],
   "source": [
    "sz_1, sz_2 = 100, 100"
   ]
  },
  {
   "cell_type": "code",
   "execution_count": 165,
   "metadata": {},
   "outputs": [
    {
     "data": {
      "image/png": "[encoded data removed]",
      "text/plain": [
       "<matplotlib.figure.Figure at 0x11c732b70>"
      ]
     },
     "metadata": {},
     "output_type": "display_data"
    }
   ],
   "source": [
    "features_1, labels_1 = np.random.normal(loc=55, scale=1, size=(sz_1, 2)), np.zeros(sz_1)\n",
    "features_2, labels_2 = np.random.normal(loc=50, scale=1, size=(sz_2, 2)), np.ones(sz_2)\n",
    "\n",
    "for features in [features_1, features_2]:\n",
    "    plt.scatter(features[:, 0], features[:, 1]); plt.grid('on')\n",
    "    plt.title(\"Random generated data\")"
   ]
  },
  {
   "cell_type": "markdown",
   "metadata": {},
   "source": [
    "### Stack features and labels"
   ]
  },
  {
   "cell_type": "code",
   "execution_count": 215,
   "metadata": {},
   "outputs": [
    {
     "data": {
      "text/plain": [
       "array([50.70305668, 48.68665206])"
      ]
     },
     "execution_count": 215,
     "metadata": {},
     "output_type": "execute_result"
    }
   ],
   "source": [
    "features[0]"
   ]
  },
  {
   "cell_type": "code",
   "execution_count": 217,
   "metadata": {},
   "outputs": [
    {
     "name": "stdout",
     "output_type": "stream",
     "text": [
      "Shape of features:  (200, 2)\n",
      "Shape of labels:  (200,)\n"
     ]
    }
   ],
   "source": [
    "features = np.vstack([features_1, features_2])\n",
    "labels = np.hstack([labels_1, labels_2])\n",
    "print(\"Shape of features: \", features.shape)\n",
    "print(\"Shape of labels: \", labels.shape)"
   ]
  },
  {
   "cell_type": "code",
   "execution_count": 223,
   "metadata": {},
   "outputs": [
    {
     "name": "stdout",
     "output_type": "stream",
     "text": [
      "New point shape:  (1, 2)\n",
      "Label is: 1.0\n"
     ]
    }
   ],
   "source": [
    "new_point = np.array([[50, 50]])\n",
    "print(\"New point shape: \", new_point.shape)\n",
    "\n",
    "# Calculate distances\n",
    "label = classify(new_point, features, labels)\n",
    "print(\"Label is:\", label)"
   ]
  },
  {
   "cell_type": "markdown",
   "metadata": {},
   "source": [
    "### Define euclidean distance function"
   ]
  },
  {
   "cell_type": "code",
   "execution_count": 210,
   "metadata": {},
   "outputs": [],
   "source": [
    "def calc_distance(point, data):\n",
    "    sum_val = (np.power(point - data, 2)).sum(axis=1)\n",
    "    return np.power(sum_val, 0.5)"
   ]
  },
  {
   "cell_type": "markdown",
   "metadata": {},
   "source": [
    "### Define KNN classifier"
   ]
  },
  {
   "cell_type": "code",
   "execution_count": 232,
   "metadata": {},
   "outputs": [],
   "source": [
    "def classify(point, data, labels):\n",
    "    distances = calc_distance(new_point, features)\n",
    "    min_id = distances.argmin()\n",
    "    return labels[min_id], distances"
   ]
  },
  {
   "cell_type": "markdown",
   "metadata": {},
   "source": [
    "### Classify single point"
   ]
  },
  {
   "cell_type": "code",
   "execution_count": 243,
   "metadata": {},
   "outputs": [
    {
     "name": "stdout",
     "output_type": "stream",
     "text": [
      "New point shape:  (1, 2)\n",
      "Label is: 1.0\n"
     ]
    },
    {
     "data": {
      "image/png": "[encoded data removed]",
      "text/plain": [
       "<matplotlib.figure.Figure at 0x11cbf2e10>"
      ]
     },
     "metadata": {},
     "output_type": "display_data"
    }
   ],
   "source": [
    "new_point = np.array([[50, 50]])\n",
    "print(\"New point shape: \", new_point.shape)\n",
    "\n",
    "# Calculate distances\n",
    "label, distances = classify(new_point, features, labels)\n",
    "print(\"Label is:\", label)\n",
    "\n",
    "for feats in [features_1, features_2]:\n",
    "    plt.scatter(feats[:, 0], feats[:, 1]); plt.grid('on')\n",
    "\n",
    "plt.scatter(new_point[:, 0], new_point[:, 1], color='yellow'); plt.grid('on')\n",
    "plt.title(\"Random generated data\");\n"
   ]
  },
  {
   "cell_type": "code",
   "execution_count": 246,
   "metadata": {},
   "outputs": [],
   "source": [
    "sort_ids = np.argsort(distances)\n",
    "#k_distances = distances[:5].tolist()\n",
    "#[labels[d] for d in k_distances]\n"
   ]
  },
  {
   "cell_type": "code",
   "execution_count": 253,
   "metadata": {},
   "outputs": [
    {
     "data": {
      "text/plain": [
       "174"
      ]
     },
     "execution_count": 253,
     "metadata": {},
     "output_type": "execute_result"
    }
   ],
   "source": [
    "np.where(sort_ids == 1)[0][0]"
   ]
  }
 ],
 "metadata": {
  "kernelspec": {
   "display_name": "Python 3",
   "language": "python",
   "name": "python3"
  },
  "language_info": {
   "codemirror_mode": {
    "name": "ipython",
    "version": 3
   },
   "file_extension": ".py",
   "mimetype": "text/x-python",
   "name": "python",
   "nbconvert_exporter": "python",
   "pygments_lexer": "ipython3",
   "version": "3.6.2"
  }
 },
 "nbformat": 4,
 "nbformat_minor": 2
}
