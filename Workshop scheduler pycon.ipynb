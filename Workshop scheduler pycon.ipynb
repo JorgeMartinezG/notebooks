{
 "cells": [
  {
   "cell_type": "markdown",
   "metadata": {},
   "source": [
    "# Pycon Colombia 2019 - Scheduler"
   ]
  },
  {
   "cell_type": "code",
   "execution_count": 129,
   "metadata": {},
   "outputs": [],
   "source": [
    "import json\n",
    "import random"
   ]
  },
  {
   "cell_type": "markdown",
   "metadata": {},
   "source": [
    "## Generate random csv of data\n",
    "\n",
    "### Random users"
   ]
  },
  {
   "cell_type": "code",
   "execution_count": 130,
   "metadata": {},
   "outputs": [],
   "source": [
    "def create_user(user_id):\n",
    "    user = \"user_{0}\".format(user_id)\n",
    "    email = \"{0}@youremail.com\".format(user)\n",
    "\n",
    "    return [user, email]\n",
    "\n",
    "def create_row(user_id):\n",
    "    user_data = create_user(user_id)\n",
    "    # First session.\n",
    "    courses = [\"course_{0}\".format(randint(1, 10)) for a in range(9)]\n",
    "    user_data.extend(courses)\n",
    "    # Second session.\n",
    "    courses = [\"course_{0}\".format(randint(11, 20)) for a in range(9)]\n",
    "    user_data.extend(courses)\n",
    "    return user_data"
   ]
  },
  {
   "cell_type": "markdown",
   "metadata": {},
   "source": [
    "### This could be replaced just opening the csv as a list of lists"
   ]
  },
  {
   "cell_type": "code",
   "execution_count": 131,
   "metadata": {},
   "outputs": [],
   "source": [
    "data = [create_row(a) for a in range(0, 300)]"
   ]
  },
  {
   "cell_type": "markdown",
   "metadata": {},
   "source": [
    "## Execute assignment"
   ]
  },
  {
   "cell_type": "code",
   "execution_count": 132,
   "metadata": {},
   "outputs": [
    {
     "name": "stdout",
     "output_type": "stream",
     "text": [
      "Could not assign user:  user_238\n",
      "Could not assign user:  user_241\n",
      "Could not assign user:  user_243\n",
      "Could not assign user:  user_244\n",
      "Could not assign user:  user_245\n",
      "Could not assign user:  user_248\n",
      "Could not assign user:  user_249\n",
      "Could not assign user:  user_250\n",
      "Could not assign user:  user_251\n",
      "Could not assign user:  user_252\n",
      "Could not assign user:  user_253\n",
      "Could not assign user:  user_254\n",
      "Could not assign user:  user_257\n",
      "Could not assign user:  user_259\n",
      "Could not assign user:  user_260\n",
      "Could not assign user:  user_261\n",
      "Could not assign user:  user_262\n",
      "Could not assign user:  user_263\n",
      "Could not assign user:  user_264\n",
      "Could not assign user:  user_265\n",
      "Could not assign user:  user_266\n",
      "Could not assign user:  user_267\n",
      "Could not assign user:  user_268\n",
      "Could not assign user:  user_269\n",
      "Could not assign user:  user_270\n",
      "Could not assign user:  user_271\n",
      "Could not assign user:  user_272\n",
      "Could not assign user:  user_273\n",
      "Could not assign user:  user_274\n",
      "Could not assign user:  user_275\n",
      "Could not assign user:  user_276\n",
      "Could not assign user:  user_277\n",
      "Could not assign user:  user_278\n",
      "Could not assign user:  user_279\n",
      "Could not assign user:  user_280\n",
      "Could not assign user:  user_281\n",
      "Could not assign user:  user_282\n",
      "Could not assign user:  user_283\n",
      "Could not assign user:  user_284\n",
      "Could not assign user:  user_285\n",
      "Could not assign user:  user_286\n",
      "Could not assign user:  user_287\n",
      "Could not assign user:  user_288\n",
      "Could not assign user:  user_289\n",
      "Could not assign user:  user_290\n",
      "Could not assign user:  user_291\n",
      "Could not assign user:  user_292\n",
      "Could not assign user:  user_293\n",
      "Could not assign user:  user_294\n",
      "Could not assign user:  user_295\n",
      "Could not assign user:  user_296\n",
      "Could not assign user:  user_297\n",
      "Could not assign user:  user_298\n",
      "Could not assign user:  user_299\n"
     ]
    }
   ],
   "source": [
    "assignment = {}\n",
    "users = {}\n",
    "\n",
    "def split_sessions(row):\n",
    "    '''\n",
    "    Gets the courses that the user picked as options for each session.\n",
    "    '''\n",
    "    return row[2:5], row[5:]\n",
    "\n",
    "def get_workshop(session, assignment):\n",
    "    '''\n",
    "    Gets the available workshop given the priority.\n",
    "    '''\n",
    "    for i in range(len(session)):\n",
    "        workshop = session[i]\n",
    "        if workshop in assignment.keys():\n",
    "            if assignment[workshop][\"count\"] == 50:\n",
    "                continue\n",
    "            return workshop, False\n",
    "        return workshop, True\n",
    "    # In case there was no assignment available among all options.\n",
    "    return None, True\n",
    "\n",
    "for row in data:\n",
    "    sessions = split_sessions(row)\n",
    "    for i, session in enumerate(sessions):\n",
    "        # Gets which workshop is available.\n",
    "        workshop, new = get_workshop(session, assignment)\n",
    "        if workshop is None:\n",
    "            print(\"Could not assign user: \", row[0])\n",
    "            continue\n",
    "        if new:\n",
    "            assignment[workshop] = {\"users\": row[:2], \"count\": 1}\n",
    "        else:\n",
    "            assignment[workshop][\"users\"].extend([row[:2]])\n",
    "            assignment[workshop][\"count\"] += 1 \n",
    "\n",
    "        # Create list of assignments by user instead of course.\n",
    "        if row[0] not in users.keys():\n",
    "            users[row[0]] = {\"email\": row[1], \"session_{0}\".format(i + 1): workshop}\n",
    "        else:\n",
    "            users[row[0]][\"session_{0}\".format(i + 1)] = workshop\n"
   ]
  },
  {
   "cell_type": "code",
   "execution_count": 138,
   "metadata": {},
   "outputs": [
    {
     "data": {
      "text/plain": [
       "['user_16',\n",
       " 'user_16@youremail.com',\n",
       " ['user_18', 'user_18@youremail.com'],\n",
       " ['user_30', 'user_30@youremail.com'],\n",
       " ['user_31', 'user_31@youremail.com'],\n",
       " ['user_37', 'user_37@youremail.com'],\n",
       " ['user_38', 'user_38@youremail.com'],\n",
       " ['user_40', 'user_40@youremail.com'],\n",
       " ['user_41', 'user_41@youremail.com'],\n",
       " ['user_48', 'user_48@youremail.com'],\n",
       " ['user_51', 'user_51@youremail.com'],\n",
       " ['user_53', 'user_53@youremail.com'],\n",
       " ['user_62', 'user_62@youremail.com'],\n",
       " ['user_70', 'user_70@youremail.com'],\n",
       " ['user_71', 'user_71@youremail.com'],\n",
       " ['user_83', 'user_83@youremail.com'],\n",
       " ['user_86', 'user_86@youremail.com'],\n",
       " ['user_90', 'user_90@youremail.com'],\n",
       " ['user_93', 'user_93@youremail.com'],\n",
       " ['user_94', 'user_94@youremail.com'],\n",
       " ['user_96', 'user_96@youremail.com'],\n",
       " ['user_98', 'user_98@youremail.com'],\n",
       " ['user_103', 'user_103@youremail.com'],\n",
       " ['user_111', 'user_111@youremail.com'],\n",
       " ['user_114', 'user_114@youremail.com'],\n",
       " ['user_118', 'user_118@youremail.com'],\n",
       " ['user_126', 'user_126@youremail.com'],\n",
       " ['user_127', 'user_127@youremail.com'],\n",
       " ['user_132', 'user_132@youremail.com'],\n",
       " ['user_134', 'user_134@youremail.com'],\n",
       " ['user_135', 'user_135@youremail.com'],\n",
       " ['user_138', 'user_138@youremail.com'],\n",
       " ['user_139', 'user_139@youremail.com'],\n",
       " ['user_142', 'user_142@youremail.com'],\n",
       " ['user_144', 'user_144@youremail.com'],\n",
       " ['user_150', 'user_150@youremail.com'],\n",
       " ['user_154', 'user_154@youremail.com'],\n",
       " ['user_161', 'user_161@youremail.com'],\n",
       " ['user_170', 'user_170@youremail.com'],\n",
       " ['user_171', 'user_171@youremail.com'],\n",
       " ['user_173', 'user_173@youremail.com'],\n",
       " ['user_173', 'user_173@youremail.com'],\n",
       " ['user_175', 'user_175@youremail.com'],\n",
       " ['user_179', 'user_179@youremail.com'],\n",
       " ['user_180', 'user_180@youremail.com'],\n",
       " ['user_181', 'user_181@youremail.com'],\n",
       " ['user_183', 'user_183@youremail.com'],\n",
       " ['user_185', 'user_185@youremail.com'],\n",
       " ['user_188', 'user_188@youremail.com'],\n",
       " ['user_195', 'user_195@youremail.com'],\n",
       " ['user_197', 'user_197@youremail.com']]"
      ]
     },
     "execution_count": 138,
     "metadata": {},
     "output_type": "execute_result"
    }
   ],
   "source": [
    "assignment[\"course_5\"]['users']"
   ]
  }
 ],
 "metadata": {
  "kernelspec": {
   "display_name": "Python 3",
   "language": "python",
   "name": "python3"
  },
  "language_info": {
   "codemirror_mode": {
    "name": "ipython",
    "version": 3
   },
   "file_extension": ".py",
   "mimetype": "text/x-python",
   "name": "python",
   "nbconvert_exporter": "python",
   "pygments_lexer": "ipython3",
   "version": "3.6.2"
  }
 },
 "nbformat": 4,
 "nbformat_minor": 2
}
