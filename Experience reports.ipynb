{
 "cells": [
  {
   "cell_type": "markdown",
   "metadata": {},
   "source": [
    "# Geosure: Experience reports"
   ]
  },
  {
   "cell_type": "markdown",
   "metadata": {},
   "source": [
    "### Import required libraries"
   ]
  },
  {
   "cell_type": "code",
   "execution_count": 1,
   "metadata": {},
   "outputs": [],
   "source": [
    "import json\n",
    "import math\n",
    "import os\n",
    "import pandas as pd\n",
    "import pywraps2 as s2\n",
    "\n",
    "from glob import glob"
   ]
  },
  {
   "cell_type": "markdown",
   "metadata": {},
   "source": [
    "### Get list of files with its path."
   ]
  },
  {
   "cell_type": "code",
   "execution_count": 2,
   "metadata": {},
   "outputs": [],
   "source": [
    "directory = '/code/geosure/reports/'\n",
    "files_list = []\n",
    "for path, folders, files in os.walk(directory):\n",
    "    for file in files:\n",
    "        files_list.append(os.path.join(path, file))"
   ]
  },
  {
   "cell_type": "markdown",
   "metadata": {},
   "source": [
    "### Process data as JSON objects\n",
    "\n",
    "This is useful for parsing necessary fields and future analysis"
   ]
  },
  {
   "cell_type": "code",
   "execution_count": 3,
   "metadata": {},
   "outputs": [
    {
     "name": "stdout",
     "output_type": "stream",
     "text": [
      "Total number of reports:  553\n"
     ]
    }
   ],
   "source": [
    "def include_brackets(data_str):\n",
    "    if not data_str.startswith('{'):\n",
    "        data_str = '{' + data_str\n",
    "    if not data_str.endswith('}'):\n",
    "        data_str = data_str + '}'\n",
    "    return data_str\n",
    "\n",
    "\n",
    "def process_file(file_path):\n",
    "    # read file as string.\n",
    "    with open(file_path, 'rb') as f:\n",
    "        data = f.read().decode('utf-8')\n",
    "\n",
    "    # There are some files which contains multiple reports.\n",
    "    split_data = [include_brackets(report) for report in data.split('}{')]\n",
    "\n",
    "    # Return as json objects.    \n",
    "    json_data = [json.loads(rep) for rep in split_data]\n",
    "\n",
    "    return json_data\n",
    "\n",
    "json_objects = [process_file(file) for file in files_list]\n",
    "# Flatten list of list.\n",
    "json_objects = [item for sublist in json_objects for item in sublist]\n",
    "\n",
    "print('Total number of reports: ', len(json_objects))\n",
    "# print(json_objects[1])"
   ]
  },
  {
   "cell_type": "markdown",
   "metadata": {},
   "source": [
    "Now, we will create a table using only location and sentiment values for each report"
   ]
  },
  {
   "cell_type": "code",
   "execution_count": 4,
   "metadata": {},
   "outputs": [],
   "source": [
    "def create_dict(obj):\n",
    "    return {\n",
    "        'latitude': obj['geometry']['coordinates'][1],\n",
    "        'longitude': obj['geometry']['coordinates'][0],\n",
    "        'sentiment': obj['properties']['sentiment']\n",
    "    }\n",
    "\n",
    "reports = [create_dict(obj) for obj in json_objects]"
   ]
  },
  {
   "cell_type": "markdown",
   "metadata": {},
   "source": [
    " ### Load geosure latest master data file."
   ]
  },
  {
   "cell_type": "code",
   "execution_count": 5,
   "metadata": {},
   "outputs": [
    {
     "name": "stdout",
     "output_type": "stream",
     "text": [
      "Length of Master Data File:  35660\n"
     ]
    }
   ],
   "source": [
    "def check_row(row):\n",
    "    if row['latitude'] > 200 or row['longitude'] > 200:\n",
    "        return False\n",
    "    if row['latitude'] < -200 or row['longitude'] < -200:\n",
    "        return False\n",
    "        \n",
    "    return True\n",
    "\n",
    "\n",
    "def load_df(df_path):\n",
    "    fields = ['geosure_id', 'latitude', 'longitude']\n",
    "    df = pd.read_csv(df_path, encoding='utf-16', sep='\\t')\n",
    "    df = df[fields]\n",
    "    \n",
    "    return list(df.T.to_dict().values())\n",
    "\n",
    "dfs = [load_df(f) for f in glob('/code/geosure/mdf/*.txt')]\n",
    "mdf = [item for sublist in dfs for item in sublist]\n",
    "\n",
    "print('Length of Master Data File: ', len(mdf))"
   ]
  },
  {
   "cell_type": "markdown",
   "metadata": {},
   "source": [
    "### Associate reports with Geosure ids.\n",
    "\n",
    "For each Geosure id, we create a search window whose center is the latitude and longitude coordinates. the length of the bounding box will be 5 km"
   ]
  },
  {
   "cell_type": "code",
   "execution_count": 6,
   "metadata": {},
   "outputs": [],
   "source": [
    "earth_radius = 6371.01\n",
    "distance = 5 #km\n",
    "distdeg = (distance / earth_radius) * (180 / math.pi)\n",
    "size = s2.S2LatLng_FromDegrees(distdeg, distdeg)"
   ]
  },
  {
   "cell_type": "markdown",
   "metadata": {},
   "source": [
    "### Average weights"
   ]
  },
  {
   "cell_type": "code",
   "execution_count": 12,
   "metadata": {},
   "outputs": [],
   "source": [
    "def average_weights(reports_array):\n",
    "    total_weights = sum([i['weight'] for i in reports_array])\n",
    "\n",
    "    return total_weights / len(reports_array)\n",
    "\n",
    "def compute_weight(center, latlng):\n",
    "    # Compute distance in km. Considering the earth as a sphere, corresponds to the arc length.\n",
    "    dist = center.GetDistance(latlng).degrees() * earth_radius\n",
    "    if dist == 0:\n",
    "        weight = 1\n",
    "    else:\n",
    "        weight = 1 / dist\n",
    "    \n",
    "    return dist, weight"
   ]
  },
  {
   "cell_type": "markdown",
   "metadata": {},
   "source": [
    "### Check  if report is within the created rectangle with center in the geosure_id coordinates"
   ]
  },
  {
   "cell_type": "code",
   "execution_count": 8,
   "metadata": {},
   "outputs": [],
   "source": [
    "def check_report(report_latlng, rect):\n",
    "    if rect.Contains(report_latlng):\n",
    "        return True\n",
    "    \n",
    "    return False"
   ]
  },
  {
   "cell_type": "markdown",
   "metadata": {},
   "source": [
    "### Count sentiment for positive and negative values"
   ]
  },
  {
   "cell_type": "code",
   "execution_count": 17,
   "metadata": {},
   "outputs": [],
   "source": [
    "def count_sentiment(reports_array):\n",
    "    pos = [r['sentiment'] for r in reports_array if r['sentiment'] == 'positive']\n",
    "    neg = [r['sentiment'] for r in reports_array if r['sentiment'] == 'negative']\n",
    "\n",
    "    return len(pos), len(neg)"
   ]
  },
  {
   "cell_type": "code",
   "execution_count": 18,
   "metadata": {},
   "outputs": [],
   "source": [
    "def create_dictionary(rect, report, report_latlng):\n",
    "    dist, weight = compute_weight(rect.GetCenter(), report_latlng)\n",
    "    return {'latitude': report['latitude'],\n",
    "            'longitude': report['longitude'],\n",
    "            'distance': dist,\n",
    "            'weight': weight,\n",
    "            'sentiment': report['sentiment']\n",
    "    }"
   ]
  },
  {
   "cell_type": "code",
   "execution_count": 19,
   "metadata": {},
   "outputs": [],
   "source": [
    "results = dict()\n",
    "for i, row in enumerate(mdf[:2000]):\n",
    "    if not check_row(row):\n",
    "        continue\n",
    "    center = s2.S2LatLng_FromDegrees(row['latitude'], row['longitude'])\n",
    "    rect = s2.S2LatLngRect_FromCenterSize(center, size)\n",
    "    reports_array = []\n",
    "    for report in reports:\n",
    "        report_latlng = s2.S2LatLng_FromDegrees(report['latitude'], report['longitude'])\n",
    "        if rect.Contains(report_latlng):\n",
    "            reports_array.append(create_dictionary(rect, report, report_latlng))\n",
    "\n",
    "    if len(reports_array) == 0:\n",
    "        continue\n",
    "\n",
    "    # Count sentiment values.\n",
    "    pos, neg = count_sentiment(reports_array)\n",
    "    avg = average_weights(reports_array)\n",
    "\n",
    "    results[row['geosure_id']] = {'reports': reports_array,\n",
    "                                  'total_positive': pos,\n",
    "                                  'total_negative': neg,\n",
    "                                  'average': avg,\n",
    "                                  'latitude': row['latitude'],\n",
    "                                  'longitude': row['longitude']\n",
    "                                 }"
   ]
  },
  {
   "cell_type": "code",
   "execution_count": 20,
   "metadata": {},
   "outputs": [
    {
     "data": {
      "text/plain": [
       "{'Q930500026': {'reports': [{'latitude': 4.90143131700653,\n",
       "    'longitude': 114.92685018045569,\n",
       "    'distance': 120.70806479998866,\n",
       "    'weight': 0.008284450601183806,\n",
       "    'sentiment': 'positive'}],\n",
       "  'total_positive': 1,\n",
       "  'total_negative': 0,\n",
       "  'average': 0.008284450601183806,\n",
       "  'latitude': 4.8902779999999995,\n",
       "  'longitude': 114.942222},\n",
       " 'Q930500028': {'reports': [{'latitude': 41.71191816532232,\n",
       "    'longitude': 44.783964000005085,\n",
       "    'distance': 44.70337802941088,\n",
       "    'weight': 0.022369674151740574,\n",
       "    'sentiment': 'positive'}],\n",
       "  'total_positive': 1,\n",
       "  'total_negative': 0,\n",
       "  'average': 0.022369674151740574,\n",
       "  'latitude': 41.709981,\n",
       "  'longitude': 44.792998},\n",
       " 'Q930500210': {'reports': [{'latitude': 11.928501612504089,\n",
       "    'longitude': 79.83405280694213,\n",
       "    'distance': 153.62260908734612,\n",
       "    'weight': 0.006509458509661323,\n",
       "    'sentiment': 'positive'}],\n",
       "  'total_positive': 1,\n",
       "  'total_negative': 0,\n",
       "  'average': 0.006509458509661323,\n",
       "  'latitude': 11.913860000000001,\n",
       "  'longitude': 79.814472},\n",
       " 'Q930500544': {'reports': [{'latitude': 31.230405114364046,\n",
       "    'longitude': 121.47370099997295,\n",
       "    'distance': 0.06935249552339025,\n",
       "    'weight': 14.419091807053055,\n",
       "    'sentiment': 'positive'}],\n",
       "  'total_positive': 1,\n",
       "  'total_negative': 0,\n",
       "  'average': 14.419091807053055,\n",
       "  'latitude': 31.230415999999998,\n",
       "  'longitude': 121.473701},\n",
       " 'Q930500547': {'reports': [{'latitude': 43.825,\n",
       "    'longitude': 87.6,\n",
       "    'distance': 77.53184397747884,\n",
       "    'weight': 0.012897926177152142,\n",
       "    'sentiment': 'positive'}],\n",
       "  'total_positive': 1,\n",
       "  'total_negative': 0,\n",
       "  'average': 0.012897926177152142,\n",
       "  'latitude': 43.825592,\n",
       "  'longitude': 87.616848},\n",
       " 'Q930500732': {'reports': [{'latitude': 10.958847720186187,\n",
       "    'longitude': 106.8422574364644,\n",
       "    'distance': 9.527331718241246,\n",
       "    'weight': 0.10496118216240725,\n",
       "    'sentiment': 'positive'}],\n",
       "  'total_positive': 1,\n",
       "  'total_negative': 0,\n",
       "  'average': 0.10496118216240725,\n",
       "  'latitude': 10.957413,\n",
       "  'longitude': 106.84268700000001},\n",
       " 'Q930500748': {'reports': [{'latitude': -27.471308880505177,\n",
       "    'longitude': 153.02479986730242,\n",
       "    'distance': 7.868260569311492,\n",
       "    'weight': 0.1270928931739108,\n",
       "    'sentiment': 'positive'}],\n",
       "  'total_positive': 1,\n",
       "  'total_negative': 0,\n",
       "  'average': 0.1270928931739108,\n",
       "  'latitude': -27.471010999999997,\n",
       "  'longitude': 153.023449},\n",
       " 'Q930500814': {'reports': [{'latitude': 55.755488,\n",
       "    'longitude': 37.604206,\n",
       "    'distance': 46.992871591060705,\n",
       "    'weight': 0.02127982321876722,\n",
       "    'sentiment': 'positive'}],\n",
       "  'total_positive': 1,\n",
       "  'total_negative': 0,\n",
       "  'average': 0.02127982321876722,\n",
       "  'latitude': 55.755826,\n",
       "  'longitude': 37.6173},\n",
       " 'Q930300885': {'reports': [{'latitude': 8.998743240730924,\n",
       "    'longitude': 38.78592359394435,\n",
       "    'distance': 144.41488637576623,\n",
       "    'weight': 0.006924493901535947,\n",
       "    'sentiment': 'negative'},\n",
       "   {'latitude': 8.994076052172375,\n",
       "    'longitude': 38.78504335828501,\n",
       "    'distance': 124.90835054576485,\n",
       "    'weight': 0.008005869868833249,\n",
       "    'sentiment': 'positive'}],\n",
       "  'total_positive': 1,\n",
       "  'total_negative': 1,\n",
       "  'average': 0.007465181885184598,\n",
       "  'latitude': 8.9800689,\n",
       "  'longitude': 38.7989319},\n",
       " 'Q930300894': {'reports': [{'latitude': 8.998743240730924,\n",
       "    'longitude': 38.78592359394435,\n",
       "    'distance': 103.04985535319265,\n",
       "    'weight': 0.009704040792416487,\n",
       "    'sentiment': 'negative'},\n",
       "   {'latitude': 8.994076052172375,\n",
       "    'longitude': 38.78504335828501,\n",
       "    'distance': 89.8856752238781,\n",
       "    'weight': 0.011125243232687541,\n",
       "    'sentiment': 'positive'}],\n",
       "  'total_positive': 1,\n",
       "  'total_negative': 1,\n",
       "  'average': 0.010414642012552013,\n",
       "  'latitude': 8.9874651,\n",
       "  'longitude': 38.797662200000005},\n",
       " 'Q930300906': {'reports': [{'latitude': 8.998743240730924,\n",
       "    'longitude': 38.78592359394435,\n",
       "    'distance': 129.39012770173605,\n",
       "    'weight': 0.007728564904929627,\n",
       "    'sentiment': 'negative'}],\n",
       "  'total_positive': 0,\n",
       "  'total_negative': 1,\n",
       "  'average': 0.007728564904929627,\n",
       "  'latitude': 9.016573699999999,\n",
       "  'longitude': 38.776079100000004},\n",
       " 'Q930300910': {'reports': [{'latitude': 8.994076052172375,\n",
       "    'longitude': 38.78504335828501,\n",
       "    'distance': 148.6452087063588,\n",
       "    'weight': 0.006727428409586011,\n",
       "    'sentiment': 'positive'}],\n",
       "  'total_positive': 1,\n",
       "  'total_negative': 0,\n",
       "  'average': 0.006727428409586011,\n",
       "  'latitude': 9.0024496,\n",
       "  'longitude': 38.762994899999995},\n",
       " 'Q930300924': {'reports': [{'latitude': 8.998743240730924,\n",
       "    'longitude': 38.78592359394435,\n",
       "    'distance': 37.315083861987944,\n",
       "    'weight': 0.026798814219433607,\n",
       "    'sentiment': 'negative'},\n",
       "   {'latitude': 8.994076052172375,\n",
       "    'longitude': 38.78504335828501,\n",
       "    'distance': 58.14538993762679,\n",
       "    'weight': 0.01719826801527535,\n",
       "    'sentiment': 'positive'}],\n",
       "  'total_positive': 1,\n",
       "  'total_negative': 1,\n",
       "  'average': 0.021998541117354477,\n",
       "  'latitude': 9.0024254,\n",
       "  'longitude': 38.781312},\n",
       " 'Q930300926': {'reports': [{'latitude': 8.998743240730924,\n",
       "    'longitude': 38.78592359394435,\n",
       "    'distance': 77.20662851202059,\n",
       "    'weight': 0.012952255774830347,\n",
       "    'sentiment': 'negative'},\n",
       "   {'latitude': 8.994076052172375,\n",
       "    'longitude': 38.78504335828501,\n",
       "    'distance': 61.38265004158113,\n",
       "    'weight': 0.01629124841176768,\n",
       "    'sentiment': 'positive'}],\n",
       "  'total_positive': 1,\n",
       "  'total_negative': 1,\n",
       "  'average': 0.014621752093299013,\n",
       "  'latitude': 8.992472,\n",
       "  'longitude': 38.775424900000004}}"
      ]
     },
     "execution_count": 20,
     "metadata": {},
     "output_type": "execute_result"
    }
   ],
   "source": [
    "results"
   ]
  }
 ],
 "metadata": {
  "kernelspec": {
   "display_name": "Python 3",
   "language": "python",
   "name": "python3"
  },
  "language_info": {
   "codemirror_mode": {
    "name": "ipython",
    "version": 3
   },
   "file_extension": ".py",
   "mimetype": "text/x-python",
   "name": "python",
   "nbconvert_exporter": "python",
   "pygments_lexer": "ipython3",
   "version": "3.7.1"
  }
 },
 "nbformat": 4,
 "nbformat_minor": 2
}
