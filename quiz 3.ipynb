{
 "cells": [
  {
   "cell_type": "code",
   "execution_count": 1,
   "metadata": {},
   "outputs": [],
   "source": [
    "import numpy as np\n",
    "from matplotlib import pyplot as plt\n",
    "%matplotlib inline"
   ]
  },
  {
   "cell_type": "code",
   "execution_count": 11,
   "metadata": {},
   "outputs": [
    {
     "data": {
      "image/png": "[encoded data removed]",
      "text/plain": [
       "<matplotlib.figure.Figure at 0x104b2bcc0>"
      ]
     },
     "metadata": {},
     "output_type": "display_data"
    }
   ],
   "source": [
    "block_size = (50, 50, 3)\n",
    "\n",
    "mat = np.zeros(block_size, dtype=np.uint8)\n",
    "\n",
    "red_img = mat.copy()\n",
    "red_img[:, :, 0] = 255\n",
    "\n",
    "green_img = mat.copy()\n",
    "green_img[:, :, 1] = 255\n",
    "\n",
    "blue_img = mat.copy()\n",
    "blue_img[:, :, 2] = 255\n",
    "\n",
    "half_up = np.hstack([red_img, green_img])\n",
    "half_down = np.hstack([green_img, blue_img])\n",
    "\n",
    "out_img = np.vstack([half_up, half_down])\n",
    "plt.imshow(out_img); plt.axis('off');\n"
   ]
  }
 ],
 "metadata": {
  "kernelspec": {
   "display_name": "Python 3",
   "language": "python",
   "name": "python3"
  },
  "language_info": {
   "codemirror_mode": {
    "name": "ipython",
    "version": 3
   },
   "file_extension": ".py",
   "mimetype": "text/x-python",
   "name": "python",
   "nbconvert_exporter": "python",
   "pygments_lexer": "ipython3",
   "version": "3.6.2"
  }
 },
 "nbformat": 4,
 "nbformat_minor": 2
}
