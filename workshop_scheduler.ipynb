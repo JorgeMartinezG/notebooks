{
 "cells": [
  {
   "cell_type": "code",
   "execution_count": 79,
   "metadata": {},
   "outputs": [],
   "source": [
    "import csv\n",
    "import random\n",
    "import os\n",
    "import shutil\n",
    "from os.path import join"
   ]
  },
  {
   "cell_type": "code",
   "execution_count": 55,
   "metadata": {},
   "outputs": [],
   "source": [
    "# Generate fake data.\n",
    "MAX_SIZE = 10\n",
    "\n",
    "NUM_SESSIONS = 2\n",
    "NUM_WORKSHOPS = 40\n",
    "NUM_USERS = 200\n",
    "\n",
    "# Create fake workshops.\n",
    "workshops = [f'workshop_{c}' for c in range(NUM_WORKSHOPS)]\n",
    "workshops_session_1 = workshops[:20]\n",
    "workshops_session_2 = workshops[20:]\n",
    "\n",
    "# Create fake users.\n",
    "users = [dict(id=f'id_{num}', name=f'user_{num}', email=f'user_{num}@email.com') for num in range(NUM_USERS)]\n",
    "\n",
    "# create csv rows.\n",
    "csv_rows = []\n",
    "for user in users:\n",
    "    row = list(user.values())\n",
    "\n",
    "    # Select random option from each session.\n",
    "    row.extend(random.choices(workshops_session_1, k=2))\n",
    "    row.extend(random.choices(workshops_session_2, k=2))\n",
    "    csv_rows.append(row)"
   ]
  },
  {
   "cell_type": "code",
   "execution_count": 62,
   "metadata": {},
   "outputs": [],
   "source": [
    "email_users = []\n",
    "session_1_selection = {}\n",
    "session_2_selection = {}\n",
    "\n",
    "def add_user(user_data, opt, session_dict):\n",
    "    success = False\n",
    "    # Validate that workshop has not been created.\n",
    "    if opt not in session_dict.keys():\n",
    "        session_dict[opt] = [user_data]\n",
    "        success = True\n",
    "\n",
    "    # Validate that it is not full.    \n",
    "    elif opt in session_dict.keys() and len(session_dict[opt_1]) < MAX_SIZE:\n",
    "        session_dict[opt].append(user_data)\n",
    "        success = True\n",
    "\n",
    "    return success\n",
    "\n",
    "def get_selected_session(user_data, opt_1, opt_2, session_dict):\n",
    "    selected = 'Not selected'\n",
    "    success = add_user(user_data, opt_1, session_dict)\n",
    "    if success is True:\n",
    "        selected = opt_1\n",
    "    else:\n",
    "        success = add_user(user_data, opt_2, session_dict)\n",
    "        if success is True:\n",
    "            selected = opt_2\n",
    "    return selected\n",
    "  \n",
    "for row in csv_rows:\n",
    "    user_data = row[0:3]\n",
    "    opt_1, opt_2 = row[3:5]\n",
    "    selected_session_1 = get_selected_session(user_data, opt_1, opt_2, session_1_selection)\n",
    "\n",
    "    opt_1, opt_2 = row[4:6]\n",
    "    selected_session_2 = get_selected_session(user_data, opt_1, opt_2, session_2_selection)\n",
    "    \n",
    "    email_user = user_data.copy()\n",
    "    \n",
    "    email_user.extend([selected_session_1, selected_session_2])\n",
    "    email_users.append(email_user)"
   ]
  },
  {
   "cell_type": "code",
   "execution_count": 84,
   "metadata": {},
   "outputs": [],
   "source": [
    "def save_to_csv(file_path, data):\n",
    "    with open(file_path, \"w\", newline=\"\") as f:\n",
    "        writer = csv.writer(f)\n",
    "        writer.writerows(data)\n",
    "\n",
    "FOLDER_NAME = 'selection'\n",
    "WORKSHOPS_FOLDER = 'workshops'\n",
    "\n",
    "if os.path.isdir(FOLDER_NAME):\n",
    "    shutil.rmtree(FOLDER_NAME)\n",
    "\n",
    "# Make global directory and subdirectories.\n",
    "[os.mkdir(i) for i in [FOLDER_NAME, join(FOLDER_NAME, WORKSHOPS_FOLDER)]]\n",
    "\n",
    "file_path = join(FOLDER_NAME, \"email_users.csv\")\n",
    "save_to_csv(file_path, email_users)\n",
    "\n",
    "# Save into csv file the list of users per workshop.\n",
    "all_sessions = [session_1_selection, session_2_selection]\n",
    "res = [[save_to_csv(join(FOLDER_NAME, WORKSHOPS_FOLDER, f'{k}.csv'), v) for k,v in s.items()] for s in all_sessions]\n",
    "\n",
    "\n"
   ]
  }
 ],
 "metadata": {
  "kernelspec": {
   "display_name": "Python 3",
   "language": "python",
   "name": "python3"
  },
  "language_info": {
   "codemirror_mode": {
    "name": "ipython",
    "version": 3
   },
   "file_extension": ".py",
   "mimetype": "text/x-python",
   "name": "python",
   "nbconvert_exporter": "python",
   "pygments_lexer": "ipython3",
   "version": "3.6.2"
  }
 },
 "nbformat": 4,
 "nbformat_minor": 2
}
