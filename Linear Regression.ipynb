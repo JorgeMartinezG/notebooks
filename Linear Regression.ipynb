{
 "cells": [
  {
   "cell_type": "markdown",
   "metadata": {},
   "source": [
    "## Simple Linear Regression with Python"
   ]
  },
  {
   "cell_type": "markdown",
   "metadata": {},
   "source": [
    "### 1. Import modules"
   ]
  },
  {
   "cell_type": "code",
   "execution_count": 95,
   "metadata": {},
   "outputs": [],
   "source": [
    "import numpy as np\n",
    "from matplotlib import pyplot as plt\n",
    "%matplotlib inline"
   ]
  },
  {
   "cell_type": "markdown",
   "metadata": {},
   "source": [
    "### 2. Create dataset"
   ]
  },
  {
   "cell_type": "code",
   "execution_count": 96,
   "metadata": {},
   "outputs": [
    {
     "data": {
      "image/png": "[encoded data removed]",
      "text/plain": [
       "<matplotlib.figure.Figure at 0x2466c9890f0>"
      ]
     },
     "metadata": {},
     "output_type": "display_data"
    }
   ],
   "source": [
    "data_x = np.linspace(1.0, 10.0, 100)[:, np.newaxis]\n",
    "data_y = np.sin(data_x) + 0.1*np.power(data_x,2) + 0.5*np.random.randn(100, 1)\n",
    "data_x /= np.max(data_x)\n",
    "plt.scatter(data_x, data_y); plt.title('Our data'); plt.xlabel('X'); plt.ylabel('Y')\n",
    "plt.grid('On')\n",
    "\n",
    "num_epochs = 1000\n",
    "step_size = 1e-3"
   ]
  },
  {
   "cell_type": "markdown",
   "metadata": {},
   "source": [
    "### 3. Perform gradient descent"
   ]
  },
  {
   "cell_type": "code",
   "execution_count": 97,
   "metadata": {},
   "outputs": [
    {
     "name": "stdout",
     "output_type": "stream",
     "text": [
      "Inputs shape: (100, 1)\n",
      "Labels shape: (100, 1)\n"
     ]
    }
   ],
   "source": [
    "print(\"Inputs shape: {0}\".format(data_x.shape))\n",
    "print(\"Labels shape: {0}\".format(data_y.shape))"
   ]
  },
  {
   "cell_type": "markdown",
   "metadata": {},
   "source": [
    "#### Define loss function"
   ]
  },
  {
   "cell_type": "code",
   "execution_count": 98,
   "metadata": {},
   "outputs": [],
   "source": [
    "def compute_grad_loss(x, y, w):\n",
    "    y_estimate = np.dot(x, w)\n",
    "    # Estimate using squared loss function.\n",
    "    loss = np.power(y_estimate - y, 2).mean()\n",
    "    grad_loss = 2 * x.T.dot((y_estimate - y))\n",
    "\n",
    "    return loss, grad_loss"
   ]
  },
  {
   "cell_type": "code",
   "execution_count": 99,
   "metadata": {},
   "outputs": [
    {
     "name": "stdout",
     "output_type": "stream",
     "text": [
      "Initializing weights randomly....\n",
      "Weights shape (1, 1)\n",
      "\n",
      "Epoch: 0 - Loss: 21.3548\n",
      "Epoch: 100 - Loss: 2.6693\n",
      "Epoch: 200 - Loss: 2.6693\n",
      "Epoch: 300 - Loss: 2.6693\n",
      "Epoch: 400 - Loss: 2.6693\n",
      "Epoch: 500 - Loss: 2.6693\n",
      "Epoch: 600 - Loss: 2.6693\n",
      "Epoch: 700 - Loss: 2.6693\n",
      "Epoch: 800 - Loss: 2.6693\n",
      "Epoch: 900 - Loss: 2.6693\n"
     ]
    }
   ],
   "source": [
    "print(\"Initializing weights randomly....\")\n",
    "weights = np.random.random((1, 1))\n",
    "print(\"Weights shape {0}\".format(weights.shape))\n",
    "print(\"\")\n",
    "\n",
    "for epoch in range(num_epochs):\n",
    "    loss, grad_loss = compute_grad_loss(data_x, data_y, weights)\n",
    "\n",
    "    # Update weights using gradient.\n",
    "    # weights = weights - step_size * grad_loss\n",
    "    weights -= step_size * grad_loss\n",
    "\n",
    "    if epoch % 100 == 0:\n",
    "        print('Epoch: %d - Loss: %.4f' % (epoch, loss))\n"
   ]
  },
  {
   "cell_type": "markdown",
   "metadata": {},
   "source": [
    "#### Plotting results."
   ]
  },
  {
   "cell_type": "code",
   "execution_count": 100,
   "metadata": {},
   "outputs": [
    {
     "data": {
      "image/png": "[encoded data removed]",
      "text/plain": [
       "<matplotlib.figure.Figure at 0x2466cce1dd8>"
      ]
     },
     "metadata": {},
     "output_type": "display_data"
    }
   ],
   "source": [
    "plt.scatter(data_x, data_y)\n",
    "plt.plot(data_x, np.multiply(data_x, weights)); plt.grid('On')\n",
    "plt.title('Curve fitting'); plt.xlabel('X'); plt.ylabel('Y');"
   ]
  },
  {
   "cell_type": "markdown",
   "metadata": {},
   "source": [
    "### 4. Higher dimensional weights"
   ]
  },
  {
   "cell_type": "markdown",
   "metadata": {},
   "source": [
    "**First issue:** Our weights vector has two dimensions. Our inputs has one dimensional feature vector. Because we cannot include additional information to our feature vector, one solution is to stack a column of ones to our vector."
   ]
  },
  {
   "cell_type": "code",
   "execution_count": 101,
   "metadata": {},
   "outputs": [
    {
     "name": "stdout",
     "output_type": "stream",
     "text": [
      "New data shape (100, 2)\n"
     ]
    }
   ],
   "source": [
    "# Stack new input.\n",
    "data_x = np.hstack((np.ones_like(data_x), data_x))\n",
    "print(\"New data shape {0}\".format(data_x.shape))"
   ]
  },
  {
   "cell_type": "code",
   "execution_count": 102,
   "metadata": {},
   "outputs": [
    {
     "name": "stdout",
     "output_type": "stream",
     "text": [
      "Initializing weights randomly....\n",
      "Weights shape (2, 1)\n",
      "\n",
      "Epoch: 0 - Loss: 18.0211\n",
      "Epoch: 200 - Loss: 1.8927\n",
      "Epoch: 400 - Loss: 1.8069\n",
      "Epoch: 600 - Loss: 1.8056\n",
      "Epoch: 800 - Loss: 1.8056\n"
     ]
    }
   ],
   "source": [
    "print(\"Initializing weights randomly....\")\n",
    "weights = np.random.random((2, 1))\n",
    "print(\"Weights shape {0}\".format(weights.shape))\n",
    "print(\"\")\n",
    "\n",
    "for epoch in range(num_epochs):\n",
    "    loss, grad_loss = compute_grad_loss(data_x, data_y, weights)\n",
    "    weights -= step_size * grad_loss\n",
    "\n",
    "    if epoch % 200 == 0:\n",
    "        print('Epoch: %d - Loss: %.4f' % (epoch, loss))"
   ]
  },
  {
   "cell_type": "markdown",
   "metadata": {},
   "source": [
    "### 4. Plot curve."
   ]
  },
  {
   "cell_type": "code",
   "execution_count": 103,
   "metadata": {},
   "outputs": [
    {
     "data": {
      "image/png": "[encoded data removed]",
      "text/plain": [
       "<matplotlib.figure.Figure at 0x2466ce9ae48>"
      ]
     },
     "metadata": {},
     "output_type": "display_data"
    }
   ],
   "source": [
    "plt.scatter(data_x[:, 1], data_y[:, 0])\n",
    "plt.plot(data_x[:, 1], data_x.dot(weights)[:, 0]); plt.grid('On')\n",
    "plt.title('Curve fitting'); plt.xlabel('X'); plt.ylabel('Y');"
   ]
  }
 ],
 "metadata": {
  "kernelspec": {
   "display_name": "Python 3",
   "language": "python",
   "name": "python3"
  },
  "language_info": {
   "codemirror_mode": {
    "name": "ipython",
    "version": 3
   },
   "file_extension": ".py",
   "mimetype": "text/x-python",
   "name": "python",
   "nbconvert_exporter": "python",
   "pygments_lexer": "ipython3",
   "version": "3.6.3"
  }
 },
 "nbformat": 4,
 "nbformat_minor": 2
}
