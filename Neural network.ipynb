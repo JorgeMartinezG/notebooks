{
 "cells": [
  {
   "cell_type": "markdown",
   "metadata": {},
   "source": [
    "## Neural networks with python"
   ]
  },
  {
   "cell_type": "markdown",
   "metadata": {},
   "source": [
    "### Import modules"
   ]
  },
  {
   "cell_type": "code",
   "execution_count": 7,
   "metadata": {},
   "outputs": [],
   "source": [
    "import numpy as np"
   ]
  },
  {
   "cell_type": "markdown",
   "metadata": {},
   "source": [
    "### Define dataset"
   ]
  },
  {
   "cell_type": "code",
   "execution_count": 8,
   "metadata": {},
   "outputs": [],
   "source": [
    "x = np.array([[0,0,1],[0,1,1],[1,0,1],[1,1,1] ])\n",
    "y = np.array([[0,0,1,1]]).T\n",
    "num_epochs = 60000"
   ]
  },
  {
   "cell_type": "markdown",
   "metadata": {},
   "source": [
    "### 1. Define non-linear function and gradient"
   ]
  },
  {
   "cell_type": "code",
   "execution_count": 9,
   "metadata": {},
   "outputs": [],
   "source": [
    "# compute sigmoid nonlinearity\n",
    "def sigmoid(x):\n",
    "    output = 1/(1+np.exp(-x))\n",
    "    return output\n",
    "\n",
    "# convert output of sigmoid function to its derivative\n",
    "def sigmoid_output_to_derivative(output):\n",
    "    return output*(1-output)"
   ]
  },
  {
   "cell_type": "markdown",
   "metadata": {},
   "source": [
    "#### Running gradient descent"
   ]
  },
  {
   "cell_type": "code",
   "execution_count": 10,
   "metadata": {},
   "outputs": [
    {
     "name": "stdout",
     "output_type": "stream",
     "text": [
      "Epoch 0 - Loss 0.2298\n",
      "Epoch 10000 - Loss 0.0040\n",
      "Epoch 20000 - Loss 0.0019\n",
      "Epoch 30000 - Loss 0.0012\n",
      "Epoch 40000 - Loss 0.0009\n",
      "Epoch 50000 - Loss 0.0007\n"
     ]
    }
   ],
   "source": [
    "np.random.seed(1)\n",
    "weights = np.random.random((3, 1))\n",
    "eta = 1E-2\n",
    "# forward pass.\n",
    "for epoch in range(num_epochs):\n",
    "    layer_1 = sigmoid(np.dot(x, weights))\n",
    "    loss = (np.power(layer_1 - y, 2)).mean()\n",
    "\n",
    "    grad_dot_product = 2 * (layer_1 - y) * sigmoid_output_to_derivative(layer_1)\n",
    "    grad_weights = np.dot(x.T, grad_dot_product)\n",
    "\n",
    "    if epoch % 10000 == 0:\n",
    "        print(\"Epoch %d - Loss %.4f\" % (epoch, loss))\n",
    "    \n",
    "    weights -= eta * grad_weights"
   ]
  },
  {
   "cell_type": "markdown",
   "metadata": {},
   "source": [
    "### 2. Training a 2-layer neural network"
   ]
  },
  {
   "cell_type": "code",
   "execution_count": 11,
   "metadata": {},
   "outputs": [
    {
     "name": "stdout",
     "output_type": "stream",
     "text": [
      "Epoch 0 - Loss 0.2197\n",
      "Epoch 10000 - Loss 0.0001\n",
      "Epoch 20000 - Loss 0.0001\n",
      "Epoch 30000 - Loss 0.0000\n",
      "Epoch 40000 - Loss 0.0000\n",
      "Epoch 50000 - Loss 0.0000\n"
     ]
    }
   ],
   "source": [
    "np.random.seed(1)\n",
    "weights_0 = 2*np.random.random((3, 4)) - 1\n",
    "weights_1 = 2*np.random.random((4, 1)) - 1\n",
    "\n",
    "eta = 1e-1\n",
    "# forward pass.\n",
    "for epoch in range(num_epochs):\n",
    "    layer_1 = sigmoid(np.dot(x, weights_0))\n",
    "    layer_2 = sigmoid(np.dot(layer_1, weights_1))\n",
    "\n",
    "    # Loss function.\n",
    "    loss = (np.power(layer_2 - y, 2)).mean()\n",
    "\n",
    "    # Setting gradients for output layers.\n",
    "    grad_layer_2 = 2 * (layer_2 - y) * sigmoid_output_to_derivative(layer_2)\n",
    "    grad_layer_1 = (grad_layer_2.dot(weights_1.T)) * sigmoid_output_to_derivative(layer_1)\n",
    "\n",
    "    # Setting gradients for weights\n",
    "    grad_weights_1 = layer_1.T.dot(grad_layer_2)\n",
    "    grad_weights_0 = x.T.dot(grad_layer_1)\n",
    "    if epoch % 10000 == 0:\n",
    "        print(\"Epoch %d - Loss %.4f\" % (epoch, loss))\n",
    "    \n",
    "    weights_1 -= eta * grad_weights_1\n",
    "    weights_0 -= eta * grad_weights_0"
   ]
  }
 ],
 "metadata": {
  "kernelspec": {
   "display_name": "Python 3",
   "language": "python",
   "name": "python3"
  },
  "language_info": {
   "codemirror_mode": {
    "name": "ipython",
    "version": 3
   },
   "file_extension": ".py",
   "mimetype": "text/x-python",
   "name": "python",
   "nbconvert_exporter": "python",
   "pygments_lexer": "ipython3",
   "version": "3.6.3"
  }
 },
 "nbformat": 4,
 "nbformat_minor": 2
}
