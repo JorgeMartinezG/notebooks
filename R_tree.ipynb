{
 "cells": [
  {
   "cell_type": "markdown",
   "metadata": {},
   "source": [
    "# Simple google s2 r-tree implementation"
   ]
  },
  {
   "cell_type": "markdown",
   "metadata": {},
   "source": [
    "### Import libraries"
   ]
  },
  {
   "cell_type": "code",
   "execution_count": 77,
   "metadata": {},
   "outputs": [],
   "source": [
    "import numpy as np\n",
    "import sys\n",
    "\n",
    "from random import randint"
   ]
  },
  {
   "cell_type": "markdown",
   "metadata": {},
   "source": [
    "### Create random number with a number of bits given by the size value\n",
    "\n",
    "Then it is shifted to the left"
   ]
  },
  {
   "cell_type": "code",
   "execution_count": 335,
   "metadata": {},
   "outputs": [],
   "source": [
    "def print_bin(n):\n",
    "    binary_rep = \"{0:b}\".format(n)\n",
    "    print(len(binary_rep), binary_rep)\n",
    "\n",
    "    \n",
    "def get_random_number(size=10):\n",
    "    rand_int = randint(0, 2 ** size)\n",
    "    number = rand_int << (63 - len(\"{0:b}\".format(rand_int)))\n",
    "    number = int(\"{0:b}\".format(number) + \"1\", 2)\n",
    "    return number"
   ]
  },
  {
   "cell_type": "markdown",
   "metadata": {},
   "source": [
    "\n",
    "### Create array of numbers"
   ]
  },
  {
   "cell_type": "code",
   "execution_count": 334,
   "metadata": {},
   "outputs": [
    {
     "name": "stdout",
     "output_type": "stream",
     "text": [
      "64 1010000100011101001000011111100011001101100111011000111011011101\n",
      "64 1000111111100100100101000011011110100101001010011010000010010111\n",
      "64 1100000111111100100111100101111111001000001111101010111101001001\n",
      "64 1111001001110110011001100011101101100101111101010101000111011101\n",
      "64 1101010011000111000101100011010010010100000000000001101110000001\n",
      "64 1001001000010110001000001001110011001000110010000010011010000011\n",
      "64 1010110011100000010100001100011111111011000011010111010000010001\n",
      "64 1011001010000011000010010011101100010010011000111101111000000001\n",
      "64 1111000010010111100001111100000100111010100100100010010100011001\n",
      "64 1111111010100000100011001010110100110100110011100010110100010011\n"
     ]
    }
   ],
   "source": [
    "N = 10\n",
    "data = [get_random_number(63) for i in range(N)]\n",
    "for n in data:\n",
    "    print_bin(n)"
   ]
  },
  {
   "cell_type": "markdown",
   "metadata": {},
   "source": [
    "## Create tree given elements of data array"
   ]
  },
  {
   "cell_type": "markdown",
   "metadata": {},
   "source": [
    "### Get faces\n",
    "\n",
    "The s2 Cell ID has encoded within its 3 most significant bits, the face of the cube. It will correspond to the roots of the tree"
   ]
  },
  {
   "cell_type": "code",
   "execution_count": 345,
   "metadata": {},
   "outputs": [],
   "source": [
    "tree = {}\n",
    "def process_num(num):\n",
    "    # Check face cube.\n",
    "    face = \"{0:b}\".format(num >> 61)\n",
    "    if face not in tree.keys():\n",
    "        tree[face] = {}\n",
    "    \n",
    "    #for i in range(2, 62, 2):\n",
    "    #    new_data += \"{0:02b}\".format((num >> 61 - i) & 3)\n",
    "    #new_data += '1'\n",
    "    #print(new_data)\n",
    "    #assert num == int(new_data, 2)\n",
    "\n",
    "for num in data:\n",
    "    process_num(num)"
   ]
  },
  {
   "cell_type": "code",
   "execution_count": 370,
   "metadata": {},
   "outputs": [
    {
     "name": "stdout",
     "output_type": "stream",
     "text": [
      "{'101': {'00': {'00': {'10': {'00': {'11': {'10': {'10': {'01': {'00': {'00': {'11': {'11': {'11': {'00': {'01': {'10': {'01': {'10': {'11': {'00': {'11': {'10': {'11': {'00': {'01': {'11': {'01': {'10': {'11': {}}}}}}}}}}}}}}}}}}}}}}}}}}}}}}}\n",
      "64 1010000100011101001000011111100011001101100111011000111011011101\n"
     ]
    }
   ],
   "source": [
    "tree = {}\n",
    "num = data[0]\n",
    "\n",
    "def traverse_number(num, i, tree_dict):\n",
    "    if i == 60:\n",
    "        print(tree)\n",
    "        return None\n",
    "    next_bits = \"{0:02b}\".format((num >> 61 - i) & 3)\n",
    "    if next_bits not in tree_dict.keys():\n",
    "        tree_dict[next_bits] = {}\n",
    "    #if next_bits not in tree[face][node].keys()\n",
    "    return traverse_number(num, i + 2, tree_dict[next_bits])\n",
    "    \n",
    "# traverse number.\n",
    "face = \"{0:b}\".format(num >> 61)\n",
    "if face not in tree.keys():\n",
    "    tree[face] = {}\n",
    "\n",
    "traverse_number(num, 2, tree[face])\n",
    "print_bin(num)"
   ]
  },
  {
   "cell_type": "code",
   "execution_count": 368,
   "metadata": {},
   "outputs": [
    {
     "data": {
      "text/plain": [
       "{'101': {'00': {'00': {'10': {'00': {'11': {'10': {'10': {'01': {'00': {'00': {'11': {'11': {'11': {'00': {'01': {'10': {'01': {'10': {'11': {'00': {'11': {'10': {'11': {'00': {'01': {'11': {'01': {'10': {'11': {}}}}}}}}}}}}}}}}}}}}}}}}}}}}}}}"
      ]
     },
     "execution_count": 368,
     "metadata": {},
     "output_type": "execute_result"
    }
   ],
   "source": [
    "tree"
   ]
  }
 ],
 "metadata": {
  "kernelspec": {
   "display_name": "Python 3",
   "language": "python",
   "name": "python3"
  },
  "language_info": {
   "codemirror_mode": {
    "name": "ipython",
    "version": 3
   },
   "file_extension": ".py",
   "mimetype": "text/x-python",
   "name": "python",
   "nbconvert_exporter": "python",
   "pygments_lexer": "ipython3",
   "version": "3.6.2"
  }
 },
 "nbformat": 4,
 "nbformat_minor": 2
}
